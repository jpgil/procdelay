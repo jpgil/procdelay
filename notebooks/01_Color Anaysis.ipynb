{
 "cells": [
  {
   "cell_type": "markdown",
   "metadata": {},
   "source": [
    "This document explains the strategy used to clusterize free text logs by looking the constant part. First, you need to import the code available at https://bitbucket.org/jpgil_cl/procdelays."
   ]
  },
  {
   "cell_type": "markdown",
   "metadata": {},
   "source": [
    "# How to color\n",
    "The colors below were generated using `paintedForAlmaAntennas` function, which remove numbers but keeps some specific equipment that must be distinguished uniquely. "
   ]
  },
  {
   "cell_type": "code",
   "execution_count": 1,
   "metadata": {},
   "outputs": [],
   "source": [
    "from src.models.AlmaClasses import paintedForAlmaAntennas"
   ]
  },
  {
   "cell_type": "code",
   "execution_count": 2,
   "metadata": {},
   "outputs": [
    {
     "data": {
      "text/plain": [
       "'Example'"
      ]
     },
     "execution_count": 2,
     "metadata": {},
     "output_type": "execute_result"
    }
   ],
   "source": [
    "paintedForAlmaAntennas(\"Example\")"
   ]
  },
  {
   "cell_type": "code",
   "execution_count": 3,
   "metadata": {},
   "outputs": [
    {
     "data": {
      "text/plain": [
       "'Example with ${N} number'"
      ]
     },
     "execution_count": 3,
     "metadata": {},
     "output_type": "execute_result"
    }
   ],
   "source": [
    "paintedForAlmaAntennas(\"Example with 1 number\")"
   ]
  },
  {
   "cell_type": "code",
   "execution_count": 4,
   "metadata": {},
   "outputs": [
    {
     "data": {
      "text/plain": [
       "'Specific ${N} antennas: ${ANT} and ${ANT}'"
      ]
     },
     "execution_count": 4,
     "metadata": {},
     "output_type": "execute_result"
    }
   ],
   "source": [
    "paintedForAlmaAntennas(\"Specific 2 antennas: DV01 and CM12\")"
   ]
  },
  {
   "cell_type": "code",
   "execution_count": 5,
   "metadata": {
    "scrolled": true
   },
   "outputs": [
    {
     "data": {
      "text/plain": [
       "'Specific hardware: IFProc_A and IFProc_B. Compare with others like DTX${N}, DTX${N}, and so on.'"
      ]
     },
     "execution_count": 5,
     "metadata": {},
     "output_type": "execute_result"
    }
   ],
   "source": [
    "paintedForAlmaAntennas(\"Specific hardware: IFProc0 and IFProc1. Compare with others like DTX0, DTX1, and so on.\")"
   ]
  },
  {
   "cell_type": "markdown",
   "metadata": {},
   "source": [
    "# Discovered Palette\n",
    "Some statistic and counting over colors. The palette has a dictionary that is persistent on executions (it mixes all the analysis in all files), but it does not count colors or instances per case. For that, you need to use a special class called CaseStats."
   ]
  },
  {
   "cell_type": "code",
   "execution_count": 6,
   "metadata": {},
   "outputs": [
    {
     "data": {
      "text/plain": [
       "1468"
      ]
     },
     "execution_count": 6,
     "metadata": {},
     "output_type": "execute_result"
    }
   ],
   "source": [
    "from src import *\n",
    "from src.models.AlmaClasses import *\n",
    "palette = PaletteFileDB(\n",
    "    filename='../data/processed/colors-almaAntenna.pkl', \n",
    "    colorFunction=paintedForAlmaAntennas )\n",
    "\n",
    "colors=palette.getColors()\n",
    "len(colors)"
   ]
  },
  {
   "cell_type": "markdown",
   "metadata": {},
   "source": [
    "To see one color you can query by index, or by the color itself"
   ]
  },
  {
   "cell_type": "code",
   "execution_count": 7,
   "metadata": {},
   "outputs": [
    {
     "data": {
      "text/plain": [
       "'[CONTROL/${ANT}/cppContainer-GL - void Control::AntennaImpl::resynchroniseLORR()] Antenna ID Error (type=${N}, code=${N}) Detail=\"The LORR reports an unsynchronised TE signal. Please check that the LORR is in good shape and that the incoming TE signal is alive.\"'"
      ]
     },
     "execution_count": 7,
     "metadata": {},
     "output_type": "execute_result"
    }
   ],
   "source": [
    "colors[952]"
   ]
  },
  {
   "cell_type": "code",
   "execution_count": 8,
   "metadata": {},
   "outputs": [
    {
     "data": {
      "text/plain": [
       "'[CONTROL/${ANT}/cppContainer-GL - MonitorComponent::propertyArchivingInterval] Because archive_max_int (${N}) is smaller than min_timer_trig(${N}), the values of property CONTROL/${ANT}/FrontEnd/PowerDist${N}:ESNS_FOUND (IDL:alma/ACS/ROuLong:${N}) will be collected with time trigger: ${N} .'"
      ]
     },
     "execution_count": 8,
     "metadata": {},
     "output_type": "execute_result"
    }
   ],
   "source": [
    "colors[568]"
   ]
  },
  {
   "cell_type": "code",
   "execution_count": 9,
   "metadata": {},
   "outputs": [
    {
     "data": {
      "text/plain": [
       "511"
      ]
     },
     "execution_count": 9,
     "metadata": {},
     "output_type": "execute_result"
    }
   ],
   "source": [
    "palette.index(\"[CONTROL/${ANT}/FrontEnd/IFSwitch - ] ContainerServices::getComponentNonSticky(CONTROL/${ANT}/IFProc_B)\")"
   ]
  },
  {
   "cell_type": "markdown",
   "metadata": {},
   "source": [
    "Below is shown a subset of the colors:"
   ]
  },
  {
   "cell_type": "code",
   "execution_count": 10,
   "metadata": {
    "scrolled": true
   },
   "outputs": [
    {
     "name": "stdout",
     "output_type": "stream",
     "text": [
      "Color 621: [CONTROL/${ANT}/cppContainer-GL - void Control::ControlDeviceImpl<componentInterfaceType, acscomponentImpl>::getSubdeviceReference(const Control::Devi\n",
      "Color 622: [CONTROL/${ANT}/cppContainer-GL - void Control::ControlDeviceImpl<componentInterfaceType, acscomponentImpl>::getSubdeviceReference(const Control::Devi\n",
      "Color 623: [CONTROL/${ANT}/cppContainer-GL - void Control::ControlDeviceImpl<componentInterfaceType, acscomponentImpl>::getSubdeviceReference(const Control::Devi\n",
      "Color 624: [CONTROL/${ANT}/cppContainer-GL - void Control::ControlDeviceImpl<componentInterfaceType, acscomponentImpl>::getSubdeviceReference(const Control::Devi\n",
      "Color 625: [CONTROL/${ANT}/cppContainer-GL - void Control::ControlDeviceImpl<componentInterfaceType, acscomponentImpl>::getSubdeviceReference(const Control::Devi\n",
      "Color 626: [CONTROL/${ANT}/cppContainer-GL - void Control::ControlDeviceImpl<componentInterfaceType, acscomponentImpl>::getSubdeviceReference(const Control::Devi\n",
      "Color 627: [CONTROL/${ANT}/cppContainer-GL - void Control::ControlDeviceImpl<componentInterfaceType, acscomponentImpl>::getSubdeviceReference(const Control::Devi\n",
      "Color 628: [CONTROL/${ANT}/cppContainer-GL - void Control::ControlDeviceImpl<componentInterfaceType, acscomponentImpl>::getSubdeviceReference(const Control::Devi\n",
      "Color 629: [CONTROL/${ANT}/cppContainer-GL - void Control::ControlDeviceImpl<componentInterfaceType, acscomponentImpl>::getSubdeviceReference(const Control::Devi\n",
      "Color 630: [CONTROL/${ANT}/cppContainer-GL - void Control::ControlDeviceImpl<componentInterfaceType, acscomponentImpl>::getSubdeviceReference(const Control::Devi\n",
      "Color 631: [CONTROL/${ANT}/cppContainer-GL - void Control::ControlDeviceImpl<componentInterfaceType, acscomponentImpl>::getSubdeviceReference(const Control::Devi\n",
      "Color 632: [CONTROL/${ANT}/cppContainer-GL - maci::ActivationMethod::call] CORBA Problem (type=${N}, code=${N}) Info=\"system exception, ID 'IDL:omg.org/CORBA/TRA\n",
      "Color 633: [Container-ActivationMethod - maci::ActivationMethod::call] Call to maci::CBComponentInfo::done for component CONTROL/${ANT}/LORR with descOut.id_tag \n",
      "Color 634: [Container-ActivationMethod - maci::ActivationMethod::call] Call to maci::CBComponentInfo::done for component CONTROL/${ANT}/LORR with descOut.id_tag \n",
      "Color 635: [CONTROL/${ANT}/cppContainer-GL - ] Switched state of component CONTROL/${ANT}/LORR: OPERATIONAL -> DESTROYING\n",
      "Color 636: [CONTROL/${ANT}/LORR - virtual void LORRImpl::hwStopAction()] Communication failure flushing commands to device\n",
      "Color 637: [CONTROL/${ANT}/cppContainer-GL - BaseSupplier::publishEvent] Failed to send an event of type 'ACSJMSMessageEntity' to the 'CMW.ALARM_SYSTEM.ALARMS.SO\n",
      "Color 638: [CONTROL/${ANT}/cppContainer-GL - ] Switched state of component CONTROL/${ANT}/LORR: DESTROYING -> DEFUNCT\n",
      "Color 639: [CONTROL/${ANT}/cppContainer - maci::ContainerImpl::etherealizeComponent] Component 'CONTROL/${ANT}/LORR' etherealized.\n",
      "Color 640: [maci::LibraryManager - maci::LibraryManager::unload] Unloaded '${PATH}/libLORRImpl.so'.\n",
      "Color 641: [CONTROL/${ANT}/cppContainer - maci::ContainerImpl::deactivate_component] Component 'CONTROL/${ANT}/LORR' deactivated.\n",
      "Color 642: [main - virtual Logging::Logger::~Logger()] LOGGING STATISTICS FOR: Undefined.main ErrorMessageIncrement=\"nan\" MessageIncrement=\"inf\" LastPeriodNumber\n",
      "Color 643: Local file logger: Cache saved to '/alma/ACS-JUN${N}/acsdata/tmp/dv${N}-abm/daemons_${N}${N}${N}T${N}:${N}:${N}/acs_local_log_cppContainer_${N}'.\n",
      "Color 644: [CONTROL/${ANT}/cppContainer-GL - ] Helper::Helper(channelName_mp =CONTROL_SYSTEM, acsNCDomainName_mp = DEFAULTDOMAIN)\n",
      "Color 645: [CONTROL/${ANT}/cppContainer-GL - ] Helper::Helper(channelName_mp =CONTROL_REALTIME, acsNCDomainName_mp = DEFAULTDOMAIN)\n",
      "Color 646: [CONTROL/${ANT}/cppContainer-GL - ] Created the thread responsible for checking the status of the Notify Channel CONTROL_REALTIME\n",
      "Color 647: [CONTROL/${ANT}/cppContainer-GL - ] Destroyed the thread responsible for checking the status of the Notify Channel CONTROL_REALTIME\n",
      "Color 648: [CONTROL/${ANT}::actionThread - virtual Logging::Logger::~Logger()] LOGGING STATISTICS FOR: Undefined.CONTROL/${ANT}::actionThread ErrorMessageIncreme\n",
      "Color 649: [CONTROL/${ANT}::actionThread - virtual Logging::Logger::~Logger()] LOGGING STATISTICS FOR: Undefined.CONTROL/${ANT}::actionThread ErrorMessageIncreme\n"
     ]
    }
   ],
   "source": [
    "for i in range(621,650):\n",
    "    print (\"Color %d: %s\" % (i, colors[i][:150]))"
   ]
  },
  {
   "cell_type": "markdown",
   "metadata": {},
   "source": [
    "Those colors were obtained in near 10 minutes over these 6 files. Note that there are 270 files that can be processed:"
   ]
  },
  {
   "cell_type": "code",
   "execution_count": 11,
   "metadata": {},
   "outputs": [
    {
     "name": "stdout",
     "output_type": "stream",
     "text": [
      "dv25-acsStartContainer_cppContainer_2017-07-10_17.03.32.841_STRIPPED\r\n",
      "dv25-acsStartContainer_cppContainer_2017-07-10_17.12.59.636_STRIPPED\r\n",
      "dv25-acsStartContainer_cppContainer_2017-07-10_19.30.47.674_STRIPPED\r\n",
      "dv25-acsStartContainer_cppContainer_2017-07-10_20.43.06.773_STRIPPED\r\n",
      "dv25-acsStartContainer_cppContainer_2017-07-10_20.56.06.754_STRIPPED\r\n",
      "dv25-acsStartContainer_cppContainer_2017-07-11_19.55.26.410_STRIPPED\r\n",
      "dv25-acsStartContainer_cppContainer_2017-07-11_20.41.40.861_STRIPPED\r\n",
      "dv25-acsStartContainer_cppContainer_2017-07-11_20.55.42.275_STRIPPED\r\n",
      "dv25-acsStartContainer_cppContainer_2017-07-12_00.14.04.823_STRIPPED\r\n",
      "dv25-acsStartContainer_cppContainer_2017-07-12_00.40.12.586_STRIPPED\r\n"
     ]
    }
   ],
   "source": [
    "!ls ../data/interim/ | tail"
   ]
  },
  {
   "cell_type": "markdown",
   "metadata": {},
   "source": [
    "# Statistics on pairs"
   ]
  },
  {
   "cell_type": "code",
   "execution_count": 27,
   "metadata": {},
   "outputs": [],
   "source": [
    "from src import *\n",
    "from src.models.AlmaClasses import *"
   ]
  },
  {
   "cell_type": "markdown",
   "metadata": {},
   "source": [
    "* Instances per pair: how many individual cases has the pair (A, B)\n",
    "* Delays per pair: sum up of all (A, B) delays measured among all instances"
   ]
  },
  {
   "cell_type": "markdown",
   "metadata": {},
   "source": [
    "## CaseAntennaObserving"
   ]
  },
  {
   "cell_type": "code",
   "execution_count": 28,
   "metadata": {},
   "outputs": [
    {
     "data": {
      "text/plain": [
       "'CaseAntennaObserving'"
      ]
     },
     "execution_count": 28,
     "metadata": {},
     "output_type": "execute_result"
    }
   ],
   "source": [
    "db = DelaysFileDB( caseName=\"CaseAntennaObserving\", path= '../' + config.FILEPATH_DB+\"/delays\")  \n",
    "db.caseName"
   ]
  },
  {
   "cell_type": "code",
   "execution_count": 29,
   "metadata": {},
   "outputs": [],
   "source": [
    "#db.instances_per_pair()[:5]"
   ]
  },
  {
   "cell_type": "code",
   "execution_count": 30,
   "metadata": {},
   "outputs": [
    {
     "data": {
      "text/plain": [
       "125"
      ]
     },
     "execution_count": 30,
     "metadata": {},
     "output_type": "execute_result"
    }
   ],
   "source": [
    "len(db.unique_colors())"
   ]
  },
  {
   "cell_type": "code",
   "execution_count": 31,
   "metadata": {},
   "outputs": [
    {
     "data": {
      "text/plain": [
       "4025"
      ]
     },
     "execution_count": 31,
     "metadata": {},
     "output_type": "execute_result"
    }
   ],
   "source": [
    "db.total_pairs()"
   ]
  },
  {
   "cell_type": "code",
   "execution_count": 17,
   "metadata": {},
   "outputs": [
    {
     "data": {
      "text/plain": [
       "4"
      ]
     },
     "execution_count": 17,
     "metadata": {},
     "output_type": "execute_result"
    }
   ],
   "source": [
    "some_pair, value = db.instances_per_pair()[10]\n",
    "db.delays_per_pair()[some_pair]"
   ]
  },
  {
   "cell_type": "code",
   "execution_count": 18,
   "metadata": {},
   "outputs": [
    {
     "data": {
      "text/plain": [
       "351"
      ]
     },
     "execution_count": 18,
     "metadata": {},
     "output_type": "execute_result"
    }
   ],
   "source": [
    "db.total_cases()"
   ]
  },
  {
   "cell_type": "markdown",
   "metadata": {},
   "source": [
    "## CaseRadioSetup"
   ]
  },
  {
   "cell_type": "code",
   "execution_count": 19,
   "metadata": {},
   "outputs": [],
   "source": [
    "db = DelaysFileDB( caseName=\"CaseRadioSetup\", path= '../' + config.FILEPATH_DB+\"/delays\")  "
   ]
  },
  {
   "cell_type": "code",
   "execution_count": 20,
   "metadata": {},
   "outputs": [
    {
     "data": {
      "text/plain": [
       "9"
      ]
     },
     "execution_count": 20,
     "metadata": {},
     "output_type": "execute_result"
    }
   ],
   "source": [
    "len(db.unique_colors())"
   ]
  },
  {
   "cell_type": "code",
   "execution_count": 21,
   "metadata": {},
   "outputs": [
    {
     "data": {
      "text/plain": [
       "18"
      ]
     },
     "execution_count": 21,
     "metadata": {},
     "output_type": "execute_result"
    }
   ],
   "source": [
    "db.total_pairs()"
   ]
  },
  {
   "cell_type": "code",
   "execution_count": 22,
   "metadata": {},
   "outputs": [
    {
     "data": {
      "text/plain": [
       "599"
      ]
     },
     "execution_count": 22,
     "metadata": {},
     "output_type": "execute_result"
    }
   ],
   "source": [
    "db.total_cases()"
   ]
  },
  {
   "cell_type": "markdown",
   "metadata": {},
   "source": [
    "## CaseAntennaInArray"
   ]
  },
  {
   "cell_type": "code",
   "execution_count": 23,
   "metadata": {},
   "outputs": [],
   "source": [
    "db = DelaysFileDB( caseName=\"CaseAntennaInArray\", path= '../' + config.FILEPATH_DB+\"/delays\")  "
   ]
  },
  {
   "cell_type": "code",
   "execution_count": 24,
   "metadata": {},
   "outputs": [
    {
     "data": {
      "text/plain": [
       "228"
      ]
     },
     "execution_count": 24,
     "metadata": {},
     "output_type": "execute_result"
    }
   ],
   "source": [
    "len(db.unique_colors())"
   ]
  },
  {
   "cell_type": "code",
   "execution_count": 25,
   "metadata": {},
   "outputs": [
    {
     "data": {
      "text/plain": [
       "12066"
      ]
     },
     "execution_count": 25,
     "metadata": {},
     "output_type": "execute_result"
    }
   ],
   "source": [
    "db.total_pairs()"
   ]
  },
  {
   "cell_type": "code",
   "execution_count": 26,
   "metadata": {},
   "outputs": [
    {
     "data": {
      "text/plain": [
       "158"
      ]
     },
     "execution_count": 26,
     "metadata": {},
     "output_type": "execute_result"
    }
   ],
   "source": [
    "db.total_cases()"
   ]
  },
  {
   "cell_type": "code",
   "execution_count": null,
   "metadata": {},
   "outputs": [],
   "source": []
  }
 ],
 "metadata": {
  "kernelspec": {
   "display_name": "Python 2",
   "language": "python",
   "name": "python2"
  },
  "language_info": {
   "codemirror_mode": {
    "name": "ipython",
    "version": 2
   },
   "file_extension": ".py",
   "mimetype": "text/x-python",
   "name": "python",
   "nbconvert_exporter": "python",
   "pygments_lexer": "ipython2",
   "version": "2.7.15"
  }
 },
 "nbformat": 4,
 "nbformat_minor": 2
}
