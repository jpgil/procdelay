{
 "cells": [
  {
   "cell_type": "markdown",
   "metadata": {},
   "source": [
    "# Summary of ALMA antenna logs\n",
    "\n",
    "October 13, 2018.\n",
    "\n",
    "The raw dataset was extracted from a subset of ALMA logs, INFO level and above. It covers 14 days of antenna movements including maintenance and science observations as well."
   ]
  },
  {
   "cell_type": "markdown",
   "metadata": {},
   "source": [
    "# Preamble\n",
    "\n",
    "The following code is required to read actual data."
   ]
  },
  {
   "cell_type": "code",
   "execution_count": 1,
   "metadata": {},
   "outputs": [],
   "source": [
    "from src import *\n",
    "from src.models.AlmaClasses import *\n",
    "\n",
    "# Colors found\n",
    "palette = PaletteFileDB(\n",
    "    filename='../data/processed/colors-almaAntenna.pkl', \n",
    "    colorFunction=paintedForAlmaAntennas )\n",
    "colors=palette.getColors()\n",
    "\n",
    "# Delays found\n",
    "AntennaObserving = DelaysFileDB( caseName=\"CaseAntennaObserving\", path= '../' + config.FILEPATH_DB+\"/delays\")  "
   ]
  },
  {
   "cell_type": "markdown",
   "metadata": {},
   "source": [
    "# Method\n",
    "\n",
    "## Colorization\n",
    "\n",
    "Corresponds to cluster events by text similarity and assigning a uniqe number. The similarity is measured by removing numbers but keeping some specific strings related to equipment that must be distinguished uniquely, for example IFPROC_1 and IFPROC_2.  "
   ]
  },
  {
   "cell_type": "code",
   "execution_count": 2,
   "metadata": {},
   "outputs": [
    {
     "data": {
      "text/plain": [
       "1468"
      ]
     },
     "execution_count": 2,
     "metadata": {},
     "output_type": "execute_result"
    }
   ],
   "source": [
    "# Found colors:\n",
    "len(colors)"
   ]
  },
  {
   "cell_type": "code",
   "execution_count": 3,
   "metadata": {},
   "outputs": [
    {
     "data": {
      "text/plain": [
       "'[CONTROL/${ANT}/cppContainer-GL - ] Switched state of component CONTROL/${ANT}/LORR: DESTROYING -> DEFUNCT'"
      ]
     },
     "execution_count": 3,
     "metadata": {},
     "output_type": "execute_result"
    }
   ],
   "source": [
    "# Example of color: all \n",
    "colors[638]"
   ]
  },
  {
   "cell_type": "markdown",
   "metadata": {},
   "source": [
    "## Delay Extraction\n",
    "\n",
    "Details of the process is described elsewhere. In brief, the set of all logs is splitted in *cases* representing the same high level task, and then the time differences between all *comparable pairs* (those with same cardinality within a single case) are extracted and stored as a sequence of *delays*, labelled with the pair of colors _(A,B)_.\n",
    "\n",
    "Three tasks were analyzed, below is shown the most interesting high level task: _Antenna Observing_."
   ]
  },
  {
   "cell_type": "code",
   "execution_count": 4,
   "metadata": {},
   "outputs": [
    {
     "data": {
      "text/plain": [
       "125"
      ]
     },
     "execution_count": 4,
     "metadata": {},
     "output_type": "execute_result"
    }
   ],
   "source": [
    "# Unique colors found among all cases\n",
    "len(AntennaObserving.unique_colors())"
   ]
  },
  {
   "cell_type": "code",
   "execution_count": 5,
   "metadata": {},
   "outputs": [
    {
     "data": {
      "text/plain": [
       "4025"
      ]
     },
     "execution_count": 5,
     "metadata": {},
     "output_type": "execute_result"
    }
   ],
   "source": [
    "# Number of (A,B) pairs found among all cases\n",
    "AntennaObserving.total_pairs()"
   ]
  },
  {
   "cell_type": "code",
   "execution_count": 23,
   "metadata": {},
   "outputs": [
    {
     "data": {
      "text/plain": [
       "351"
      ]
     },
     "execution_count": 23,
     "metadata": {},
     "output_type": "execute_result"
    }
   ],
   "source": [
    "# Total cases found in all logs\n",
    "total_cases=AntennaObserving.total_cases()\n",
    "total_cases"
   ]
  },
  {
   "cell_type": "code",
   "execution_count": 6,
   "metadata": {},
   "outputs": [
    {
     "data": {
      "text/plain": [
       "[((464, 471), 351),\n",
       " ((492, 495), 150),\n",
       " ((487, 580), 78),\n",
       " ((581, 579), 44),\n",
       " ((510, 526), 23),\n",
       " ((480, 512), 15),\n",
       " ((481, 587), 9)]"
      ]
     },
     "execution_count": 6,
     "metadata": {},
     "output_type": "execute_result"
    }
   ],
   "source": [
    "instances = sorted( AntennaObserving.instances_per_pair() , key=lambda (x,y): y, reverse=True )\n",
    "\n",
    "# Show a sample of ((A,B), seq_len)\n",
    "instances[0:2000:300]"
   ]
  },
  {
   "cell_type": "markdown",
   "metadata": {},
   "source": [
    "## Filter out by percentage of cases\n",
    "\n",
    "The pairs found for Antenna Observing can be stripped out to those meaningful. The first criteria for this filtering is how often a specific pair ```(A,B)``` appears by case. Note that the total number of delays pertaining to a specific pair is strictly greater than the appearing by case."
   ]
  },
  {
   "cell_type": "code",
   "execution_count": 35,
   "metadata": {},
   "outputs": [],
   "source": [
    "MIN_PERCENTAGE_OF_CASES = 0.2\n",
    "\n",
    "instances_long = [ ((A,B), cases_len) for ((A,B), cases_len) in instances if float(cases_len)/total_cases > MIN_PERCENTAGE_OF_CASES ]"
   ]
  },
  {
   "cell_type": "code",
   "execution_count": 36,
   "metadata": {},
   "outputs": [
    {
     "data": {
      "text/plain": [
       "671"
      ]
     },
     "execution_count": 36,
     "metadata": {},
     "output_type": "execute_result"
    }
   ],
   "source": [
    "# Size of filtered set\n",
    "len(instances_long)"
   ]
  },
  {
   "cell_type": "code",
   "execution_count": 37,
   "metadata": {},
   "outputs": [
    {
     "data": {
      "text/plain": [
       "'16.67 %'"
      ]
     },
     "execution_count": 37,
     "metadata": {},
     "output_type": "execute_result"
    }
   ],
   "source": [
    "# Percentage of filtered values\n",
    "\"%0.2f %%\" % ( 100.0*len(instances_long)/len(instances) )"
   ]
  },
  {
   "cell_type": "markdown",
   "metadata": {},
   "source": [
    "Now we have also restricted the colors over which perform the analysis"
   ]
  },
  {
   "cell_type": "code",
   "execution_count": 38,
   "metadata": {},
   "outputs": [],
   "source": [
    "filtered_colors = set( [ A for ((A,B), seq_len) in instances_long ] + [ B for ((A,B), seq_len) in instances_long ] )"
   ]
  },
  {
   "cell_type": "code",
   "execution_count": 39,
   "metadata": {},
   "outputs": [
    {
     "data": {
      "text/plain": [
       "59"
      ]
     },
     "execution_count": 39,
     "metadata": {},
     "output_type": "execute_result"
    }
   ],
   "source": [
    "len(filtered_colors)"
   ]
  },
  {
   "cell_type": "markdown",
   "metadata": {},
   "source": [
    "Below is an attempt of a matrix N x N where the cell (A,B) = seq_len if defined in ```instances_long```. Also note that the data below is already available as ```matrix.csv``` and ```matrix.xls```."
   ]
  },
  {
   "cell_type": "code",
   "execution_count": 40,
   "metadata": {},
   "outputs": [
    {
     "name": "stdout",
     "output_type": "stream",
     "text": [
      "AxB,387,395,398,400,402,439,464,465,466,467,468,469,470,471,472,473,474,475,476,477,478,479,480,481,482,483,484,486,487,488,489,490,491,492,493,494,495,497,498,500,501,502,503,504,505,506,507,509,510,511,512,514,515,578,579,580,581,584,585\n",
      "387,   ,   ,   ,   ,   ,   ,   ,   ,   ,   ,   ,   ,   ,   ,   ,   ,   ,   ,   ,   ,   ,   ,   ,   ,   ,   ,   ,   ,   ,   ,   ,   ,   ,   ,   ,78,   ,   ,   ,   ,72,72,72,72,72,72,72,72,   ,   ,   ,   ,   ,   ,   ,   ,   ,   ,   \n",
      "395,   ,   ,   ,   ,   ,   ,   ,   ,   ,   ,   ,   ,   ,   ,   ,   ,   ,   ,   ,   ,   ,   ,   ,   ,   ,   ,   ,   ,   ,   ,   ,   ,   ,   ,   ,   ,   ,   ,   ,   ,   ,   ,   ,   ,   ,   ,   ,   ,   ,   ,   ,   ,   ,   ,   ,   ,   ,   ,   \n",
      "398,   ,   ,   ,   ,   ,   ,   ,   ,   ,   ,   ,   ,   ,   ,   ,   ,   ,   ,   ,   ,   ,   ,   ,   ,   ,   ,   ,   ,   ,   ,   ,   ,   ,   ,   ,   ,   ,   ,   ,   ,   ,   ,   ,   ,   ,   ,   ,   ,   ,   ,   ,   ,   ,   ,   ,   ,   ,   ,   \n",
      "400,   ,   ,   ,   ,   ,   ,   ,   ,   ,   ,   ,   ,   ,   ,   ,   ,   ,   ,   ,   ,   ,   ,   ,   ,   ,   ,   ,   ,   ,   ,   ,   ,   ,   ,   ,   ,   ,   ,   ,   ,   ,   ,   ,   ,   ,   ,   ,   ,   ,   ,   ,92,92,78,78,78,78,   ,   \n",
      "402,   ,   ,   ,120,   ,   ,   ,   ,   ,   ,   ,   ,   ,   ,   ,   ,   ,   ,   ,   ,   ,   ,   ,   ,   ,   ,   ,   ,   ,   ,   ,   ,   ,   ,   ,   ,   ,   ,   ,   ,   ,   ,   ,   ,   ,   ,   ,   ,   ,   ,   ,92,92,78,78,78,78,   ,   \n",
      "439,103,74,74,104,104,   ,   ,   ,   ,   ,   ,   ,   ,   ,   ,   ,   ,   ,   ,   ,   ,   ,   ,   ,   ,   ,   ,104,104,74,74,   ,   ,   ,97,111,76,76,76,76,98,98,98,98,98,98,98,98,   ,   ,   ,   ,   ,   ,   ,   ,   ,72,72\n",
      "464,   ,   ,   ,104,104,   ,   ,351,351,351,351,351,351,351,351,337,337,337,337,337,337,337,337,337,337,337,337,115,115,   ,   ,   ,108,121,   ,   ,126,126,126,126,   ,   ,   ,   ,   ,   ,   ,   ,80,80,   ,339,339,   ,   ,   ,   ,   ,   \n",
      "465,   ,   ,   ,104,104,   ,   ,   ,351,351,351,351,351,351,351,337,337,337,337,337,337,337,337,337,337,337,337,115,115,   ,   ,   ,108,121,   ,   ,126,126,126,126,   ,   ,   ,   ,   ,   ,   ,   ,80,80,   ,339,339,   ,   ,   ,   ,   ,   \n",
      "466,   ,   ,   ,104,104,   ,   ,   ,   ,340,345,348,351,351,351,337,337,337,337,337,337,337,337,337,337,337,337,115,115,   ,   ,   ,108,121,   ,   ,126,126,126,126,   ,   ,   ,   ,   ,   ,   ,   ,80,80,   ,339,339,   ,   ,   ,   ,   ,   \n",
      "467,   ,   ,   ,104,104,   ,   ,   ,   ,   ,87,140,246,351,351,337,337,337,337,337,337,337,337,337,337,337,337,115,115,   ,   ,   ,108,121,   ,   ,126,126,126,126,   ,   ,   ,   ,   ,   ,   ,   ,80,80,   ,339,339,   ,   ,   ,   ,   ,   \n",
      "468,   ,   ,   ,104,104,   ,   ,   ,   ,   ,   ,98,227,351,351,337,337,337,337,337,337,337,337,337,337,337,337,115,115,   ,   ,   ,108,121,   ,   ,126,126,126,126,   ,   ,   ,   ,   ,   ,   ,   ,80,80,   ,339,339,   ,   ,   ,   ,   ,   \n",
      "469,   ,   ,   ,104,104,   ,   ,   ,   ,   ,   ,   ,195,351,351,337,337,337,337,337,337,337,337,337,337,337,337,115,115,   ,   ,   ,108,121,   ,   ,126,126,126,126,   ,   ,   ,   ,   ,   ,   ,   ,80,80,   ,339,339,   ,   ,   ,   ,   ,   \n",
      "470,   ,   ,   ,104,104,   ,   ,   ,   ,   ,   ,   ,   ,351,351,337,337,337,337,337,337,337,337,337,337,337,337,115,115,   ,   ,   ,108,121,   ,   ,126,126,126,126,   ,   ,   ,   ,   ,   ,   ,   ,80,80,   ,339,339,   ,   ,   ,   ,   ,   \n",
      "471,   ,   ,   ,104,104,   ,   ,   ,   ,   ,   ,   ,   ,   ,351,337,337,337,337,337,337,337,337,337,337,337,337,115,115,   ,   ,   ,108,121,   ,   ,126,126,126,126,   ,   ,   ,   ,   ,   ,   ,   ,80,80,   ,339,339,   ,   ,   ,   ,   ,   \n",
      "472,   ,   ,   ,104,104,   ,   ,   ,   ,   ,   ,   ,   ,   ,   ,337,337,337,337,337,337,337,337,337,337,337,337,115,115,   ,   ,   ,108,121,   ,   ,126,126,126,126,   ,   ,   ,   ,   ,   ,   ,   ,80,80,   ,339,339,   ,   ,   ,   ,   ,   \n",
      "473,   ,   ,   ,103,103,   ,   ,   ,   ,   ,   ,   ,   ,   ,   ,   ,337,337,337,337,337,337,337,337,337,337,337,112,112,   ,   ,   ,105,118,   ,   ,123,123,123,123,   ,   ,   ,   ,   ,   ,   ,   ,73,73,   ,325,325,   ,   ,   ,   ,   ,   \n",
      "474,   ,   ,   ,103,103,   ,   ,   ,   ,   ,   ,   ,   ,   ,   ,   ,   ,337,337,337,337,337,337,337,337,337,337,112,112,   ,   ,   ,105,118,   ,   ,123,123,123,123,   ,   ,   ,   ,   ,   ,   ,   ,73,73,   ,325,325,   ,   ,   ,   ,   ,   \n",
      "475,   ,   ,   ,103,103,   ,   ,   ,   ,   ,   ,   ,   ,   ,   ,   ,   ,   ,324,330,335,337,337,337,337,337,337,112,112,   ,   ,   ,105,118,   ,   ,123,123,123,123,   ,   ,   ,   ,   ,   ,   ,   ,73,73,   ,325,325,   ,   ,   ,   ,   ,   \n",
      "476,   ,   ,   ,103,103,   ,   ,   ,   ,   ,   ,   ,   ,   ,   ,   ,   ,   ,   ,186,228,267,337,337,337,337,337,112,112,   ,   ,   ,105,118,   ,   ,123,123,123,123,   ,   ,   ,   ,   ,   ,   ,   ,73,73,   ,325,325,   ,   ,   ,   ,   ,   \n",
      "477,   ,   ,   ,103,103,   ,   ,   ,   ,   ,   ,   ,   ,   ,   ,   ,   ,   ,   ,   ,163,222,337,337,337,337,337,112,112,   ,   ,   ,105,118,   ,   ,123,123,123,123,   ,   ,   ,   ,   ,   ,   ,   ,73,73,   ,325,325,   ,   ,   ,   ,   ,   \n",
      "478,   ,   ,   ,103,103,   ,   ,   ,   ,   ,   ,   ,   ,   ,   ,   ,   ,   ,   ,   ,   ,186,337,337,337,337,337,112,112,   ,   ,   ,105,118,   ,   ,123,123,123,123,   ,   ,   ,   ,   ,   ,   ,   ,73,73,   ,325,325,   ,   ,   ,   ,   ,   \n",
      "479,   ,   ,   ,103,103,   ,   ,   ,   ,   ,   ,   ,   ,   ,   ,   ,   ,   ,   ,   ,   ,   ,337,337,337,337,337,112,112,   ,   ,   ,105,118,   ,   ,123,123,123,123,   ,   ,   ,   ,   ,   ,   ,   ,73,73,   ,325,325,   ,   ,   ,   ,   ,   \n",
      "480,   ,   ,   ,103,103,   ,   ,   ,   ,   ,   ,   ,   ,   ,   ,   ,   ,   ,   ,   ,   ,   ,   ,337,337,337,337,112,112,   ,   ,   ,105,118,   ,   ,123,123,123,123,   ,   ,   ,   ,   ,   ,   ,   ,73,73,   ,325,325,   ,   ,   ,   ,   ,   \n",
      "481,   ,   ,   ,103,103,   ,   ,   ,   ,   ,   ,   ,   ,   ,   ,   ,   ,   ,   ,   ,   ,   ,   ,   ,337,337,337,112,112,   ,   ,   ,105,118,   ,   ,123,123,123,123,   ,   ,   ,   ,   ,   ,   ,   ,73,73,   ,325,325,   ,   ,   ,   ,   ,   \n",
      "482,   ,   ,   ,103,103,   ,   ,   ,   ,   ,   ,   ,   ,   ,   ,   ,   ,   ,   ,   ,   ,   ,   ,   ,   ,337,337,112,112,   ,   ,   ,105,118,   ,   ,123,123,123,123,   ,   ,   ,   ,   ,   ,   ,   ,73,73,   ,325,325,   ,   ,   ,   ,   ,   \n",
      "483,   ,   ,   ,103,103,   ,   ,   ,   ,   ,   ,   ,   ,   ,   ,   ,   ,   ,   ,   ,   ,   ,   ,   ,   ,   ,268,112,112,   ,   ,   ,105,118,   ,   ,123,123,123,123,   ,   ,   ,   ,   ,   ,   ,   ,73,73,   ,325,325,   ,   ,   ,   ,   ,   \n",
      "484,   ,   ,   ,103,103,   ,   ,   ,   ,   ,   ,   ,   ,   ,   ,   ,   ,   ,   ,   ,   ,   ,   ,   ,   ,   ,   ,112,112,   ,   ,   ,105,118,   ,   ,123,123,123,123,   ,   ,   ,   ,   ,   ,   ,   ,73,73,   ,325,325,   ,   ,   ,   ,   ,   \n",
      "486,   ,74,74,229,229,   ,   ,   ,   ,   ,   ,   ,   ,   ,   ,   ,   ,   ,   ,   ,   ,   ,   ,   ,   ,   ,   ,   ,77,   ,   ,   ,   ,   ,   ,   ,   ,   ,   ,   ,   ,   ,   ,   ,   ,   ,   ,   ,   ,   ,   ,103,103,78,78,78,78,   ,   \n",
      "487,   ,74,74,229,229,   ,   ,   ,   ,   ,   ,   ,   ,   ,   ,   ,   ,   ,   ,   ,   ,   ,   ,   ,   ,   ,   ,102,   ,   ,   ,   ,   ,   ,   ,   ,   ,   ,   ,   ,   ,   ,   ,   ,   ,   ,   ,   ,   ,   ,   ,103,103,78,78,78,78,   ,   \n",
      "488,   ,74,74,74,74,   ,   ,   ,   ,   ,   ,   ,   ,   ,   ,   ,   ,   ,   ,   ,   ,   ,   ,   ,   ,   ,   ,   ,   ,   ,   ,   ,   ,   ,   ,   ,   ,   ,   ,   ,   ,   ,   ,   ,   ,   ,   ,   ,   ,   ,   ,   ,   ,   ,   ,   ,   ,   ,   \n",
      "489,   ,74,74,74,74,   ,   ,   ,   ,   ,   ,   ,   ,   ,   ,   ,   ,   ,   ,   ,   ,   ,   ,   ,   ,   ,   ,   ,   ,   ,   ,   ,   ,   ,   ,   ,   ,   ,   ,   ,   ,   ,   ,   ,   ,   ,   ,   ,   ,   ,   ,   ,   ,   ,   ,   ,   ,   ,   \n",
      "490,   ,   ,   ,   ,   ,   ,   ,   ,   ,   ,   ,   ,   ,   ,   ,   ,   ,   ,   ,   ,   ,   ,   ,   ,   ,   ,   ,   ,   ,   ,   ,   ,   ,   ,   ,   ,   ,   ,   ,   ,   ,   ,   ,   ,   ,   ,   ,   ,83,83,83,   ,   ,   ,   ,   ,   ,   ,   \n",
      "491,   ,   ,   ,   ,   ,   ,   ,   ,   ,   ,   ,   ,   ,   ,   ,   ,   ,   ,   ,   ,   ,   ,   ,   ,   ,   ,   ,   ,   ,   ,   ,   ,   ,173,   ,   ,137,137,137,137,   ,   ,   ,   ,   ,   ,   ,   ,   ,   ,   ,108,108,   ,   ,   ,   ,   ,   \n",
      "492,   ,   ,   ,   ,   ,   ,   ,   ,   ,   ,   ,   ,   ,   ,   ,   ,   ,   ,   ,   ,   ,   ,   ,   ,   ,   ,   ,   ,   ,   ,   ,   ,   ,   ,   ,   ,150,150,150,150,   ,   ,   ,   ,   ,   ,   ,   ,   ,   ,   ,121,121,   ,   ,   ,   ,   ,   \n",
      "493,137,   ,   ,   ,   ,   ,   ,   ,   ,   ,   ,   ,   ,   ,   ,   ,   ,   ,   ,   ,   ,   ,   ,   ,   ,   ,   ,   ,   ,   ,   ,   ,   ,   ,   ,72,   ,   ,   ,   ,72,72,72,72,72,72,72,72,   ,   ,   ,   ,   ,   ,   ,   ,   ,   ,   \n",
      "494,   ,   ,   ,   ,   ,   ,   ,   ,   ,   ,   ,   ,   ,   ,   ,   ,   ,   ,   ,   ,   ,   ,   ,   ,   ,   ,   ,   ,   ,   ,   ,   ,   ,   ,   ,   ,   ,   ,   ,   ,266,266,266,266,266,266,266,266,   ,   ,   ,   ,   ,   ,   ,   ,   ,   ,   \n",
      "495,   ,   ,   ,   ,   ,   ,   ,   ,   ,   ,   ,   ,   ,   ,   ,   ,   ,   ,   ,   ,   ,   ,   ,   ,   ,   ,   ,   ,   ,   ,   ,   ,   ,   ,   ,   ,   ,287,287,287,   ,   ,   ,   ,   ,   ,   ,   ,72,72,   ,114,114,   ,   ,   ,   ,   ,   \n",
      "497,   ,   ,   ,   ,   ,   ,   ,   ,   ,   ,   ,   ,   ,   ,   ,   ,   ,   ,   ,   ,   ,   ,   ,   ,   ,   ,   ,   ,   ,   ,   ,   ,   ,   ,   ,   ,   ,   ,287,287,   ,   ,   ,   ,   ,   ,   ,   ,   ,   ,   ,114,114,   ,   ,   ,   ,   ,   \n",
      "498,   ,   ,   ,   ,   ,   ,   ,   ,   ,   ,   ,   ,   ,   ,   ,   ,   ,   ,   ,   ,   ,   ,   ,   ,   ,   ,   ,   ,   ,   ,   ,   ,   ,   ,   ,   ,   ,   ,   ,287,   ,   ,   ,   ,   ,   ,   ,   ,   ,   ,   ,114,114,   ,   ,   ,   ,   ,   \n",
      "500,   ,   ,   ,   ,   ,   ,   ,   ,   ,   ,   ,   ,   ,   ,   ,   ,   ,   ,   ,   ,   ,   ,   ,   ,   ,   ,   ,   ,   ,   ,   ,   ,   ,   ,   ,   ,   ,   ,   ,   ,   ,   ,   ,   ,   ,   ,   ,   ,   ,   ,   ,114,114,   ,   ,   ,   ,   ,   \n",
      "501,   ,   ,   ,   ,   ,   ,   ,   ,   ,   ,   ,   ,   ,   ,   ,   ,   ,   ,   ,   ,   ,   ,   ,   ,   ,   ,   ,   ,   ,   ,   ,   ,   ,   ,   ,   ,   ,   ,   ,   ,   ,266,266,266,266,266,266,266,   ,   ,   ,   ,   ,   ,   ,   ,   ,   ,   \n",
      "502,   ,   ,   ,   ,   ,   ,   ,   ,   ,   ,   ,   ,   ,   ,   ,   ,   ,   ,   ,   ,   ,   ,   ,   ,   ,   ,   ,   ,   ,   ,   ,   ,   ,   ,   ,   ,   ,   ,   ,   ,   ,   ,74,103,127,151,266,266,   ,   ,   ,   ,   ,   ,   ,   ,   ,   ,   \n",
      "503,   ,   ,   ,   ,   ,   ,   ,   ,   ,   ,   ,   ,   ,   ,   ,   ,   ,   ,   ,   ,   ,   ,   ,   ,   ,   ,   ,   ,   ,   ,   ,   ,   ,   ,   ,   ,   ,   ,   ,   ,   ,237,   ,   ,72,103,266,266,   ,   ,   ,   ,   ,   ,   ,   ,   ,   ,   \n",
      "504,   ,   ,   ,   ,   ,   ,   ,   ,   ,   ,   ,   ,   ,   ,   ,   ,   ,   ,   ,   ,   ,   ,   ,   ,   ,   ,   ,   ,   ,   ,   ,   ,   ,   ,   ,   ,   ,   ,   ,   ,   ,222,252,   ,   ,74,266,266,   ,   ,   ,   ,   ,   ,   ,   ,   ,   ,   \n",
      "505,   ,   ,   ,   ,   ,   ,   ,   ,   ,   ,   ,   ,   ,   ,   ,   ,   ,   ,   ,   ,   ,   ,   ,   ,   ,   ,   ,   ,   ,   ,   ,   ,   ,   ,   ,   ,   ,   ,   ,   ,   ,208,239,254,   ,   ,266,266,   ,   ,   ,   ,   ,   ,   ,   ,   ,   ,   \n",
      "506,   ,   ,   ,   ,   ,   ,   ,   ,   ,   ,   ,   ,   ,   ,   ,   ,   ,   ,   ,   ,   ,   ,   ,   ,   ,   ,   ,   ,   ,   ,   ,   ,   ,   ,   ,   ,   ,   ,   ,   ,   ,190,224,236,249,   ,266,266,   ,   ,   ,   ,   ,   ,   ,   ,   ,   ,   \n",
      "507,   ,   ,   ,   ,   ,   ,   ,   ,   ,   ,   ,   ,   ,   ,   ,   ,   ,   ,   ,   ,   ,   ,   ,   ,   ,   ,   ,   ,   ,   ,   ,   ,   ,   ,   ,   ,   ,   ,   ,   ,   ,   ,   ,   ,   ,   ,   ,266,   ,   ,   ,   ,   ,   ,   ,   ,   ,   ,   \n",
      "509,   ,   ,   ,   ,   ,   ,   ,   ,   ,   ,   ,   ,   ,   ,   ,   ,   ,   ,   ,   ,   ,   ,   ,   ,   ,   ,   ,   ,   ,   ,   ,   ,   ,   ,   ,   ,   ,   ,   ,   ,   ,   ,   ,   ,   ,   ,   ,   ,   ,   ,   ,   ,   ,   ,   ,   ,   ,   ,   \n",
      "510,   ,   ,   ,   ,   ,   ,   ,   ,   ,   ,   ,   ,   ,   ,   ,   ,   ,   ,   ,   ,   ,   ,   ,   ,   ,   ,   ,   ,   ,   ,   ,   ,   ,   ,   ,   ,   ,   ,   ,   ,   ,   ,   ,   ,   ,   ,   ,   ,   ,332,125,   ,   ,   ,   ,   ,   ,   ,   \n",
      "511,   ,   ,   ,   ,   ,   ,   ,   ,   ,   ,   ,   ,   ,   ,   ,   ,   ,   ,   ,   ,   ,   ,   ,   ,   ,   ,   ,   ,   ,   ,   ,   ,   ,   ,   ,   ,   ,   ,   ,   ,   ,   ,   ,   ,   ,   ,   ,   ,   ,   ,125,   ,   ,   ,   ,   ,   ,   ,   \n",
      "512,   ,   ,   ,   ,   ,   ,   ,   ,   ,   ,   ,   ,   ,   ,   ,   ,   ,   ,   ,   ,   ,   ,   ,   ,   ,   ,   ,   ,   ,   ,   ,   ,   ,   ,   ,   ,   ,   ,   ,   ,   ,   ,   ,   ,   ,   ,   ,   ,   ,   ,   ,   ,   ,   ,   ,   ,   ,   ,   \n",
      "514,   ,   ,   ,   ,   ,   ,   ,   ,   ,   ,   ,   ,   ,   ,   ,   ,   ,   ,   ,   ,   ,   ,   ,   ,   ,   ,   ,   ,   ,   ,   ,   ,   ,   ,   ,   ,   ,   ,   ,   ,   ,   ,   ,   ,   ,   ,   ,   ,   ,   ,   ,   ,245,   ,   ,   ,   ,   ,   \n",
      "515,   ,   ,   ,   ,   ,   ,   ,   ,   ,   ,   ,   ,   ,   ,   ,   ,   ,   ,   ,   ,   ,   ,   ,   ,   ,   ,   ,   ,   ,   ,   ,   ,   ,   ,   ,   ,   ,   ,   ,   ,   ,   ,   ,   ,   ,   ,   ,   ,   ,   ,   ,   ,   ,   ,   ,   ,   ,   ,   \n",
      "578,   ,   ,   ,   ,   ,   ,   ,   ,   ,   ,   ,   ,   ,   ,   ,   ,   ,   ,   ,   ,   ,   ,   ,   ,   ,   ,   ,   ,   ,   ,   ,   ,   ,   ,   ,   ,   ,   ,   ,   ,   ,   ,   ,   ,   ,   ,   ,   ,   ,   ,   ,   ,   ,   ,   ,   ,   ,   ,   \n",
      "579,   ,   ,   ,   ,   ,   ,   ,   ,   ,   ,   ,   ,   ,   ,   ,   ,   ,   ,   ,   ,   ,   ,   ,   ,   ,   ,   ,   ,   ,   ,   ,   ,   ,   ,   ,   ,   ,   ,   ,   ,   ,   ,   ,   ,   ,   ,   ,   ,   ,   ,   ,   ,   ,   ,   ,   ,   ,   ,   \n",
      "580,   ,   ,   ,   ,   ,   ,   ,   ,   ,   ,   ,   ,   ,   ,   ,   ,   ,   ,   ,   ,   ,   ,   ,   ,   ,   ,   ,   ,   ,   ,   ,   ,   ,   ,   ,   ,   ,   ,   ,   ,   ,   ,   ,   ,   ,   ,   ,   ,   ,   ,   ,   ,   ,   ,   ,   ,   ,   ,   \n",
      "581,   ,   ,   ,   ,   ,   ,   ,   ,   ,   ,   ,   ,   ,   ,   ,   ,   ,   ,   ,   ,   ,   ,   ,   ,   ,   ,   ,   ,   ,   ,   ,   ,   ,   ,   ,   ,   ,   ,   ,   ,   ,   ,   ,   ,   ,   ,   ,   ,   ,   ,   ,   ,   ,   ,   ,   ,   ,   ,   \n",
      "584,   ,   ,   ,   ,   ,   ,   ,   ,   ,   ,   ,   ,   ,   ,   ,   ,   ,   ,   ,   ,   ,   ,   ,   ,   ,   ,   ,   ,   ,   ,   ,   ,   ,   ,   ,   ,   ,   ,   ,   ,   ,   ,   ,   ,   ,   ,   ,   ,   ,   ,   ,   ,   ,   ,   ,   ,   ,   ,186\n",
      "585,   ,   ,   ,   ,   ,   ,   ,   ,   ,   ,   ,   ,   ,   ,   ,   ,   ,   ,   ,   ,   ,   ,   ,   ,   ,   ,   ,   ,   ,   ,   ,   ,   ,   ,   ,   ,   ,   ,   ,   ,   ,   ,   ,   ,   ,   ,   ,   ,   ,   ,   ,   ,   ,   ,   ,   ,   ,   ,   \n"
     ]
    }
   ],
   "source": [
    "col_names = sorted(sorted([ \"%s\" %i for i in filtered_colors]))\n",
    "print \"AxB,\" + \",\".join(col_names)\n",
    "\n",
    "for i in range(len(filtered_colors)):\n",
    "    row = []\n",
    "    for j in range(len(filtered_colors)):\n",
    "        val = \"   \"\n",
    "        for (A,B), seq_len in instances_long:\n",
    "#             print (A,B) , col_names[i]\n",
    "            if col_names[i] == str(A) and col_names[j] == str(B):\n",
    "                val=str(seq_len)\n",
    "        row.append(val)\n",
    "    print \"%s,\" % col_names[i] + \",\".join(row)"
   ]
  },
  {
   "cell_type": "markdown",
   "metadata": {},
   "source": [
    "For example, the number of cases where the pair ```(A,B) = (402,400)``` has at least 1 delay sequence is:"
   ]
  },
  {
   "cell_type": "code",
   "execution_count": 43,
   "metadata": {},
   "outputs": [
    {
     "data": {
      "text/plain": [
       "120"
      ]
     },
     "execution_count": 43,
     "metadata": {},
     "output_type": "execute_result"
    }
   ],
   "source": [
    "[ cases_len for ((A,B), cases_len) in instances if (A,B) == (402,400) ] [0]\n"
   ]
  },
  {
   "cell_type": "markdown",
   "metadata": {},
   "source": [
    "## Filter by amount of delays\n",
    "\n",
    "\n",
    "... voy aqui!!!"
   ]
  },
  {
   "cell_type": "code",
   "execution_count": null,
   "metadata": {},
   "outputs": [],
   "source": []
  }
 ],
 "metadata": {
  "kernelspec": {
   "display_name": "Python 2",
   "language": "python",
   "name": "python2"
  },
  "language_info": {
   "codemirror_mode": {
    "name": "ipython",
    "version": 2
   },
   "file_extension": ".py",
   "mimetype": "text/x-python",
   "name": "python",
   "nbconvert_exporter": "python",
   "pygments_lexer": "ipython2",
   "version": "2.7.15"
  }
 },
 "nbformat": 4,
 "nbformat_minor": 2
}
