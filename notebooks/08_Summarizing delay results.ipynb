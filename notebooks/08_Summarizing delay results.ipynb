{
 "cells": [
  {
   "cell_type": "markdown",
   "metadata": {},
   "source": [
    "# Summary of ALMA antenna logs\n",
    "\n",
    "October 13, 2018.\n",
    "\n",
    "The raw dataset was extracted from a subset of ALMA logs, INFO level and above. It covers 14 days of antenna movements including maintenance and science observations as well."
   ]
  },
  {
   "cell_type": "markdown",
   "metadata": {},
   "source": [
    "# Preamble\n",
    "\n",
    "The following code is required to read actual data."
   ]
  },
  {
   "cell_type": "code",
   "execution_count": 1,
   "metadata": {},
   "outputs": [],
   "source": [
    "from src import *\n",
    "from src.models.AlmaClasses import *\n",
    "\n",
    "# Colors found\n",
    "palette = PaletteFileDB(\n",
    "    filename='../data/processed/colors-almaAntenna.pkl', \n",
    "    colorFunction=paintedForAlmaAntennas )\n",
    "colors=palette.getColors()\n",
    "\n",
    "# Delays found\n",
    "AntennaObserving = DelaysFileDB( caseName=\"CaseAntennaObserving\", path= '../' + config.FILEPATH_DB+\"/delays\")  "
   ]
  },
  {
   "cell_type": "markdown",
   "metadata": {},
   "source": [
    "# Method\n",
    "\n",
    "## Colorization\n",
    "\n",
    "Corresponds to cluster events by text similarity and assigning a uniqe number. The similarity is measured by removing numbers but keeping some specific strings related to equipment that must be distinguished uniquely, for example IFPROC_1 and IFPROC_2.  "
   ]
  },
  {
   "cell_type": "code",
   "execution_count": 2,
   "metadata": {},
   "outputs": [
    {
     "data": {
      "text/plain": [
       "1468"
      ]
     },
     "execution_count": 2,
     "metadata": {},
     "output_type": "execute_result"
    }
   ],
   "source": [
    "# Found colors:\n",
    "len(colors)"
   ]
  },
  {
   "cell_type": "code",
   "execution_count": 3,
   "metadata": {},
   "outputs": [
    {
     "data": {
      "text/plain": [
       "'[CONTROL/${ANT}/cppContainer-GL - ] Switched state of component CONTROL/${ANT}/LORR: DESTROYING -> DEFUNCT'"
      ]
     },
     "execution_count": 3,
     "metadata": {},
     "output_type": "execute_result"
    }
   ],
   "source": [
    "# Example of color: all \n",
    "colors[638]"
   ]
  },
  {
   "cell_type": "markdown",
   "metadata": {},
   "source": [
    "## Delay Extraction\n",
    "\n",
    "Details of the process is described elsewhere. In brief, the set of all logs is splitted in *cases* representing the same high level task, and then the time differences between all *comparable pairs* (those with same cardinality within a single case) are extracted and stored as a sequence of *delays*, labelled with the pair of colors _(A,B)_.\n",
    "\n",
    "Three tasks were analyzed, below is shown the most interesting high level task: _Antenna Observing_."
   ]
  },
  {
   "cell_type": "code",
   "execution_count": 4,
   "metadata": {},
   "outputs": [
    {
     "data": {
      "text/plain": [
       "125"
      ]
     },
     "execution_count": 4,
     "metadata": {},
     "output_type": "execute_result"
    }
   ],
   "source": [
    "# Unique colors found among all cases\n",
    "len(AntennaObserving.unique_colors())"
   ]
  },
  {
   "cell_type": "code",
   "execution_count": 5,
   "metadata": {},
   "outputs": [
    {
     "data": {
      "text/plain": [
       "4025"
      ]
     },
     "execution_count": 5,
     "metadata": {},
     "output_type": "execute_result"
    }
   ],
   "source": [
    "# Number of (A,B) pairs found among all cases\n",
    "AntennaObserving.total_pairs()"
   ]
  },
  {
   "cell_type": "code",
   "execution_count": 9,
   "metadata": {},
   "outputs": [
    {
     "data": {
      "text/plain": [
       "351"
      ]
     },
     "execution_count": 9,
     "metadata": {},
     "output_type": "execute_result"
    }
   ],
   "source": [
    "# Total cases found in all logs\n",
    "total_cases = AntennaObserving.total_cases()\n",
    "\n",
    "total_cases"
   ]
  },
  {
   "cell_type": "code",
   "execution_count": 10,
   "metadata": {},
   "outputs": [
    {
     "data": {
      "text/plain": [
       "[((464, 471), 351),\n",
       " ((492, 495), 150),\n",
       " ((487, 580), 78),\n",
       " ((581, 579), 44),\n",
       " ((510, 526), 23),\n",
       " ((480, 512), 15),\n",
       " ((481, 587), 9)]"
      ]
     },
     "execution_count": 10,
     "metadata": {},
     "output_type": "execute_result"
    }
   ],
   "source": [
    "instances_per_pair = sorted( AntennaObserving.instances_per_pair() , key=lambda (x,y): y, reverse=True )\n",
    "\n",
    "# Show a sample of ((A,B), seq_len)\n",
    "instances_per_pair[0:2000:300]"
   ]
  },
  {
   "cell_type": "code",
   "execution_count": 29,
   "metadata": {},
   "outputs": [],
   "source": [
    "delays_per_pair = AntennaObserving.delays_per_pair()"
   ]
  },
  {
   "cell_type": "code",
   "execution_count": 33,
   "metadata": {},
   "outputs": [
    {
     "data": {
      "text/plain": [
       "4025"
      ]
     },
     "execution_count": 33,
     "metadata": {},
     "output_type": "execute_result"
    }
   ],
   "source": [
    "# How many pairs (should be the same than total_pairs)\n",
    "len(delays_per_pair.keys())"
   ]
  },
  {
   "cell_type": "code",
   "execution_count": 36,
   "metadata": {},
   "outputs": [
    {
     "data": {
      "text/plain": [
       "224"
      ]
     },
     "execution_count": 36,
     "metadata": {},
     "output_type": "execute_result"
    }
   ],
   "source": [
    "# Example amount of delays for a specific pair\n",
    "delays_per_pair[(402, 400)]"
   ]
  },
  {
   "cell_type": "markdown",
   "metadata": {},
   "source": [
    "## Filter out by percentage of cases\n",
    "\n",
    "The pairs found for Antenna Observing can be stripped out to those meaningful. The first criteria for this filtering is how often a specific pair ```(A,B)``` appears by case. Note that the total number of delays pertaining to a specific pair is strictly greater than the appearing by case."
   ]
  },
  {
   "cell_type": "code",
   "execution_count": 11,
   "metadata": {},
   "outputs": [],
   "source": [
    "MIN_PERCENTAGE_OF_CASES = 0.2\n",
    "\n",
    "instances_long = [ ((A,B), cases_len) for ((A,B), cases_len) in instances_per_pair if float(cases_len)/total_cases > MIN_PERCENTAGE_OF_CASES ]"
   ]
  },
  {
   "cell_type": "code",
   "execution_count": 12,
   "metadata": {},
   "outputs": [
    {
     "data": {
      "text/plain": [
       "671"
      ]
     },
     "execution_count": 12,
     "metadata": {},
     "output_type": "execute_result"
    }
   ],
   "source": [
    "# Size of filtered set\n",
    "len(instances_long)"
   ]
  },
  {
   "cell_type": "code",
   "execution_count": 13,
   "metadata": {},
   "outputs": [
    {
     "data": {
      "text/plain": [
       "'16.67 %'"
      ]
     },
     "execution_count": 13,
     "metadata": {},
     "output_type": "execute_result"
    }
   ],
   "source": [
    "# Percentage of filtered values\n",
    "\"%0.2f %%\" % ( 100.0*len(instances_long)/len(instances_per_pair) )"
   ]
  },
  {
   "cell_type": "markdown",
   "metadata": {},
   "source": [
    "Now we have also restricted the colors over which perform the analysis"
   ]
  },
  {
   "cell_type": "code",
   "execution_count": 14,
   "metadata": {},
   "outputs": [],
   "source": [
    "filtered_colors = set( [ A for ((A,B), seq_len) in instances_long ] + [ B for ((A,B), seq_len) in instances_long ] )"
   ]
  },
  {
   "cell_type": "code",
   "execution_count": 15,
   "metadata": {},
   "outputs": [
    {
     "data": {
      "text/plain": [
       "59"
      ]
     },
     "execution_count": 15,
     "metadata": {},
     "output_type": "execute_result"
    }
   ],
   "source": [
    "len(filtered_colors)"
   ]
  },
  {
   "cell_type": "markdown",
   "metadata": {},
   "source": [
    "Below is an attempt of a matrix N x N where the cell (A,B) = seq_len if defined in ```instances_long```. Also note that the data below is already available as ```matrix_by_cases.csv```."
   ]
  },
  {
   "cell_type": "code",
   "execution_count": 69,
   "metadata": {},
   "outputs": [],
   "source": [
    "col_names = sorted(sorted([ \"%s\" %i for i in filtered_colors]))\n",
    "matrix = \"AxB,\" + \",\".join(col_names)\n",
    "\n",
    "for i in range(len(filtered_colors)):\n",
    "    row = []\n",
    "    for j in range(len(filtered_colors)):\n",
    "        val = \"   \"\n",
    "        for (A,B), seq_len in instances_long:\n",
    "            if col_names[i] == str(A) and col_names[j] == str(B):\n",
    "                val=str(seq_len)\n",
    "        row.append(val)\n",
    "    matrix += \"\\n%s,\" % col_names[i] + \",\".join(row)\n",
    "    \n",
    "with open('matrix_by_cases.csv','wb') as file:\n",
    "        file.write(matrix)\n",
    "#print matrix"
   ]
  },
  {
   "cell_type": "markdown",
   "metadata": {},
   "source": [
    "For example, the number of cases where the pair ```(A,B) = (402,400)``` has at least 1 delay sequence is:"
   ]
  },
  {
   "cell_type": "code",
   "execution_count": 22,
   "metadata": {},
   "outputs": [
    {
     "data": {
      "text/plain": [
       "120"
      ]
     },
     "execution_count": 22,
     "metadata": {},
     "output_type": "execute_result"
    }
   ],
   "source": [
    "[ cases_len for ((A,B), cases_len) in instances_per_pair if (A,B) == (402,400) ] [0]"
   ]
  },
  {
   "cell_type": "markdown",
   "metadata": {},
   "source": [
    "## Filter by amount of delays\n",
    "\n",
    "The same analysis can be done by total delays for a pair ```(A,B)```. The amount of delays by pair can be ordered to have a glimpse on lenghts distribution "
   ]
  },
  {
   "cell_type": "code",
   "execution_count": 52,
   "metadata": {},
   "outputs": [],
   "source": [
    "delays_per_pair_length = sorted(delays_per_pair.values())"
   ]
  },
  {
   "cell_type": "code",
   "execution_count": 53,
   "metadata": {},
   "outputs": [
    {
     "data": {
      "text/plain": [
       "(1, 2021)"
      ]
     },
     "execution_count": 53,
     "metadata": {},
     "output_type": "execute_result"
    }
   ],
   "source": [
    "min(delays_per_pair_length), max(delays_per_pair_length)"
   ]
  },
  {
   "cell_type": "markdown",
   "metadata": {},
   "source": [
    "Then again we can filter out those pairs where the total number of delays (including all cases) are greater than a threshold"
   ]
  },
  {
   "cell_type": "code",
   "execution_count": 54,
   "metadata": {},
   "outputs": [],
   "source": [
    "MIN_TOTAL_DELAY_LENGTH = 100"
   ]
  },
  {
   "cell_type": "code",
   "execution_count": 62,
   "metadata": {},
   "outputs": [],
   "source": [
    "delays_filtered_by_length = [ ( (A,B), delays_per_pair[(A,B)] ) for (A,B) in AntennaObserving.pair_names() if delays_per_pair[(A,B)]  >= MIN_TOTAL_DELAY_LENGTH ]"
   ]
  },
  {
   "cell_type": "code",
   "execution_count": 63,
   "metadata": {},
   "outputs": [
    {
     "data": {
      "text/plain": [
       "609"
      ]
     },
     "execution_count": 63,
     "metadata": {},
     "output_type": "execute_result"
    }
   ],
   "source": [
    "len(delays_filtered_by_length)"
   ]
  },
  {
   "cell_type": "code",
   "execution_count": 64,
   "metadata": {},
   "outputs": [],
   "source": [
    "filtered_colors_by_length = set( [ A for ((A,B), seq_len) in delays_filtered_by_length ] + [ B for ((A,B), seq_len) in delays_filtered_by_length ] )"
   ]
  },
  {
   "cell_type": "code",
   "execution_count": 65,
   "metadata": {},
   "outputs": [
    {
     "data": {
      "text/plain": [
       "60"
      ]
     },
     "execution_count": 65,
     "metadata": {},
     "output_type": "execute_result"
    }
   ],
   "source": [
    "len(filtered_colors_by_length)"
   ]
  },
  {
   "cell_type": "markdown",
   "metadata": {},
   "source": [
    "Now let's dump the result in ```matrix_by_delays```"
   ]
  },
  {
   "cell_type": "code",
   "execution_count": 68,
   "metadata": {},
   "outputs": [],
   "source": [
    "col_names = sorted(sorted([ \"%s\" %i for i in filtered_colors_by_length]))\n",
    "matrix = \"AxB,\" + \",\".join(col_names)\n",
    "\n",
    "for i in range(len(filtered_colors_by_length)):\n",
    "    row = []\n",
    "    for j in range(len(filtered_colors_by_length)):\n",
    "        val = \"   \"\n",
    "        for (A,B), seq_len in delays_filtered_by_length:\n",
    "            if col_names[i] == str(A) and col_names[j] == str(B):\n",
    "                val=str(seq_len)\n",
    "        row.append(val)\n",
    "    matrix += \"\\n%s,\" % col_names[i] + \",\".join(row)\n",
    "    \n",
    "with open('matrix_by_delays.csv','wb') as file:\n",
    "        file.write(matrix)\n",
    "#print matrix"
   ]
  },
  {
   "cell_type": "code",
   "execution_count": 71,
   "metadata": {},
   "outputs": [
    {
     "data": {
      "text/plain": [
       "224"
      ]
     },
     "execution_count": 71,
     "metadata": {},
     "output_type": "execute_result"
    }
   ],
   "source": [
    "# How many delays has a specific pair?\n",
    "[ delays_len for ((A,B), delays_len) in delays_filtered_by_length if (A,B) == (402,400) ] [0]"
   ]
  },
  {
   "cell_type": "code",
   "execution_count": null,
   "metadata": {},
   "outputs": [],
   "source": []
  }
 ],
 "metadata": {
  "kernelspec": {
   "display_name": "Python 2",
   "language": "python",
   "name": "python2"
  },
  "language_info": {
   "codemirror_mode": {
    "name": "ipython",
    "version": 2
   },
   "file_extension": ".py",
   "mimetype": "text/x-python",
   "name": "python",
   "nbconvert_exporter": "python",
   "pygments_lexer": "ipython2",
   "version": "2.7.15"
  }
 },
 "nbformat": 4,
 "nbformat_minor": 2
}
