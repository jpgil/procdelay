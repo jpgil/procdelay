{
 "cells": [
  {
   "cell_type": "markdown",
   "metadata": {},
   "source": [
    "# Rank Based Analysis: (535, 536)\n",
    "Outlier detection method proposed by Barbara. It is based on these steps: \n",
    "\n",
    "1. Order the set by rank on occurrences\n",
    "2. Extract the subset of values that happens `SENSITIVITY` of the time\n",
    "3. any value outside [ min(subset), max(subset) ] is an outlier \n",
    "\n",
    "Sensitivity is set to:"
   ]
  },
  {
   "cell_type": "code",
   "execution_count": 22,
   "metadata": {},
   "outputs": [],
   "source": [
    "SENSITIVITY = 0.99"
   ]
  },
  {
   "cell_type": "code",
   "execution_count": 23,
   "metadata": {},
   "outputs": [],
   "source": [
    "from src import *\n",
    "from src.models.AlmaClasses import *\n",
    "\n",
    "from pandas import Series\n",
    "from pandas import DataFrame\n",
    "from matplotlib import pyplot\n",
    "import numpy as np\n",
    "\n",
    "palette = PaletteFileDB(\n",
    "    filename='../data/processed/colors-almaAntenna.pkl', \n",
    "    colorFunction=paintedForAlmaAntennas )\n",
    "\n",
    "db = DelaysFileDB( \n",
    "    caseName=\"CaseAntennaObserving\", \n",
    "    path= '../' + config.FILEPATH_DB + \"/delays\")  "
   ]
  },
  {
   "cell_type": "markdown",
   "metadata": {},
   "source": [
    "## Pair to study\n",
    "As a first example we will study this pair:"
   ]
  },
  {
   "cell_type": "code",
   "execution_count": 24,
   "metadata": {},
   "outputs": [],
   "source": [
    "(a,b) = (510, 511)\n",
    "# (a, b) = (543, 544)\n",
    "# (a, b) = (528, 533)"
   ]
  },
  {
   "cell_type": "code",
   "execution_count": 25,
   "metadata": {},
   "outputs": [
    {
     "data": {
      "text/plain": [
       "'C_510: [CONTROL/${ANT}/FrontEnd/IFSwitch - ] ContainerServices::getComponentNonSticky(CONTROL/${ANT}/IFProc_A)'"
      ]
     },
     "execution_count": 25,
     "metadata": {},
     "output_type": "execute_result"
    }
   ],
   "source": [
    " \"C_%s: %s\" % (a, palette.getColors()[a])"
   ]
  },
  {
   "cell_type": "code",
   "execution_count": 26,
   "metadata": {},
   "outputs": [
    {
     "data": {
      "text/plain": [
       "'C_511: [CONTROL/${ANT}/FrontEnd/IFSwitch - ] ContainerServices::getComponentNonSticky(CONTROL/${ANT}/IFProc_B)'"
      ]
     },
     "execution_count": 26,
     "metadata": {},
     "output_type": "execute_result"
    }
   ],
   "source": [
    "\"C_%s: %s\" % (b, palette.getColors()[b])"
   ]
  },
  {
   "cell_type": "markdown",
   "metadata": {},
   "source": [
    "`pandas.Series` is used below, it allows handy serie manipulation."
   ]
  },
  {
   "cell_type": "code",
   "execution_count": 27,
   "metadata": {},
   "outputs": [],
   "source": [
    "delays = Series(db.getDelays(a,b))"
   ]
  },
  {
   "cell_type": "code",
   "execution_count": 28,
   "metadata": {},
   "outputs": [
    {
     "data": {
      "text/plain": [
       "count    972.000000\n",
       "mean       8.600823\n",
       "std        8.608735\n",
       "min        1.000000\n",
       "25%        4.000000\n",
       "50%        7.000000\n",
       "75%       11.000000\n",
       "max      214.000000\n",
       "dtype: float64"
      ]
     },
     "execution_count": 28,
     "metadata": {},
     "output_type": "execute_result"
    }
   ],
   "source": [
    "delays.describe()"
   ]
  },
  {
   "cell_type": "code",
   "execution_count": 29,
   "metadata": {},
   "outputs": [
    {
     "data": {
      "image/png": "[encoded data removed]",
      "text/plain": [
       "<Figure size 432x288 with 1 Axes>"
      ]
     },
     "metadata": {},
     "output_type": "display_data"
    }
   ],
   "source": [
    "fig = pyplot.figure()\n",
    "fig.suptitle('Original Serie')\n",
    "pyplot.plot(delays)\n",
    "pyplot.show()"
   ]
  },
  {
   "cell_type": "code",
   "execution_count": 30,
   "metadata": {},
   "outputs": [
    {
     "data": {
      "image/png": "[encoded data removed]",
      "text/plain": [
       "<Figure size 432x288 with 1 Axes>"
      ]
     },
     "metadata": {},
     "output_type": "display_data"
    }
   ],
   "source": [
    "fig = pyplot.figure()\n",
    "fig.suptitle('Ordered Serie')\n",
    "# pyplot.yscale('log')\n",
    "pyplot.plot(sorted(delays, reverse=True))\n",
    "pyplot.show()"
   ]
  },
  {
   "cell_type": "code",
   "execution_count": 31,
   "metadata": {},
   "outputs": [
    {
     "data": {
      "image/png": "[encoded data removed]",
      "text/plain": [
       "<Figure size 432x288 with 1 Axes>"
      ]
     },
     "metadata": {},
     "output_type": "display_data"
    }
   ],
   "source": [
    "# Simple boxplot\n",
    "pyplot.boxplot( delays )\n",
    "pyplot.show()"
   ]
  },
  {
   "cell_type": "code",
   "execution_count": 32,
   "metadata": {},
   "outputs": [],
   "source": [
    "# DataFrame(delays).boxplot()"
   ]
  },
  {
   "cell_type": "markdown",
   "metadata": {},
   "source": [
    "## Applying Method\n",
    "Extracting the rank based on # of occurrences, and make a plot"
   ]
  },
  {
   "cell_type": "code",
   "execution_count": 33,
   "metadata": {},
   "outputs": [
    {
     "name": "stdout",
     "output_type": "stream",
     "text": [
      "Value=4 happens 103 times\n",
      "Value=3 happens 100 times\n",
      "Value=10 happens 43 times\n"
     ]
    },
    {
     "data": {
      "text/plain": [
       "4      103\n",
       "3      100\n",
       "5       93\n",
       "6       79\n",
       "7       72\n",
       "9       64\n",
       "12      60\n",
       "11      59\n",
       "8       58\n",
       "2       53\n",
       "10      43\n",
       "13      43\n",
       "14      41\n",
       "15      32\n",
       "16      22\n",
       "17      10\n",
       "1        6\n",
       "18       5\n",
       "19       4\n",
       "37       4\n",
       "26       3\n",
       "31       2\n",
       "39       2\n",
       "23       2\n",
       "34       2\n",
       "32       2\n",
       "40       1\n",
       "27       1\n",
       "30       1\n",
       "28       1\n",
       "25       1\n",
       "24       1\n",
       "21       1\n",
       "214      1\n",
       "dtype: int64"
      ]
     },
     "execution_count": 33,
     "metadata": {},
     "output_type": "execute_result"
    }
   ],
   "source": [
    "value_counts = delays.value_counts()\n",
    "\n",
    "print \"Value=%s happens %s times\" % (value_counts.index[0], value_counts.values[0])\n",
    "print \"Value=%s happens %s times\" % (value_counts.index[1], value_counts.values[1])\n",
    "print \"Value=%s happens %s times\" % (value_counts.index[10], value_counts.values[10])\n",
    "\n",
    "\n",
    "value_counts"
   ]
  },
  {
   "cell_type": "code",
   "execution_count": 34,
   "metadata": {},
   "outputs": [
    {
     "data": {
      "image/png": "[encoded data removed]",
      "text/plain": [
       "<Figure size 432x288 with 1 Axes>"
      ]
     },
     "metadata": {},
     "output_type": "display_data"
    }
   ],
   "source": [
    "pyplot.plot(value_counts.values)\n",
    "pyplot.show()"
   ]
  },
  {
   "cell_type": "markdown",
   "metadata": {},
   "source": [
    "The rank obtained in `value_counts` shows that the evident `outlier=214` happens only 1 time, 41 happens 2 times. Let's see the tail of the ordered original delays: (yes, they are here!)"
   ]
  },
  {
   "cell_type": "code",
   "execution_count": 35,
   "metadata": {},
   "outputs": [
    {
     "data": {
      "text/plain": [
       "[34, 34, 37, 37, 37, 37, 39, 39, 40, 214]"
      ]
     },
     "execution_count": 35,
     "metadata": {},
     "output_type": "execute_result"
    }
   ],
   "source": [
    "sorted(delays)[-10:]"
   ]
  },
  {
   "cell_type": "markdown",
   "metadata": {},
   "source": [
    "Now, obtain the subset of values that, combined, appears `SENSITIVE` amount of times"
   ]
  },
  {
   "cell_type": "code",
   "execution_count": 36,
   "metadata": {},
   "outputs": [],
   "source": [
    "# Cumulative sum on value_counts.\n",
    "cumsum = value_counts.cumsum()"
   ]
  },
  {
   "cell_type": "code",
   "execution_count": 37,
   "metadata": {},
   "outputs": [
    {
     "data": {
      "text/plain": [
       "972"
      ]
     },
     "execution_count": 37,
     "metadata": {},
     "output_type": "execute_result"
    }
   ],
   "source": [
    "total = cumsum[-1:].values[0]\n",
    "total"
   ]
  },
  {
   "cell_type": "code",
   "execution_count": 38,
   "metadata": {},
   "outputs": [],
   "source": [
    "percentageCumsum = cumsum / total"
   ]
  },
  {
   "cell_type": "code",
   "execution_count": 39,
   "metadata": {},
   "outputs": [
    {
     "data": {
      "text/plain": [
       "4     0.105967\n",
       "3     0.208848\n",
       "5     0.304527\n",
       "6     0.385802\n",
       "7     0.459877\n",
       "9     0.525720\n",
       "12    0.587449\n",
       "11    0.648148\n",
       "8     0.707819\n",
       "2     0.762346\n",
       "10    0.806584\n",
       "13    0.850823\n",
       "14    0.893004\n",
       "15    0.925926\n",
       "16    0.948560\n",
       "17    0.958848\n",
       "1     0.965021\n",
       "18    0.970165\n",
       "19    0.974280\n",
       "37    0.978395\n",
       "26    0.981481\n",
       "31    0.983539\n",
       "39    0.985597\n",
       "23    0.987654\n",
       "34    0.989712\n",
       "dtype: float64"
      ]
     },
     "execution_count": 39,
     "metadata": {},
     "output_type": "execute_result"
    }
   ],
   "source": [
    "# Note that this method is simpler, but the very explicit results with percentageCumsum is shown for clarity\n",
    "#typicalValues = cumsum[ cumsum <= SENSITIVITY * total ]\n",
    "\n",
    "typicalValues = percentageCumsum[ percentageCumsum <= SENSITIVITY]\n",
    "typicalValues"
   ]
  },
  {
   "cell_type": "code",
   "execution_count": 40,
   "metadata": {},
   "outputs": [
    {
     "data": {
      "text/plain": [
       "(1, 39)"
      ]
     },
     "execution_count": 40,
     "metadata": {},
     "output_type": "execute_result"
    }
   ],
   "source": [
    "minVal, maxVal = min(typicalValues.index), max(typicalValues.index)\n",
    "minVal, maxVal"
   ]
  },
  {
   "cell_type": "markdown",
   "metadata": {},
   "source": [
    "# Testing the method\n",
    "A graph with the \"typical\" part (minVal < t < maxVal) is shown, with some stats metrics."
   ]
  },
  {
   "cell_type": "code",
   "execution_count": 41,
   "metadata": {},
   "outputs": [
    {
     "data": {
      "text/plain": [
       "count    970.000000\n",
       "mean       8.356701\n",
       "std        5.444966\n",
       "min        1.000000\n",
       "25%        4.000000\n",
       "50%        7.000000\n",
       "75%       11.000000\n",
       "max       39.000000\n",
       "dtype: float64"
      ]
     },
     "execution_count": 41,
     "metadata": {},
     "output_type": "execute_result"
    }
   ],
   "source": [
    "typicalDelays = delays[ minVal <= delays ][ delays <= maxVal ]\n",
    "typicalDelays.describe()"
   ]
  },
  {
   "cell_type": "code",
   "execution_count": 42,
   "metadata": {},
   "outputs": [
    {
     "data": {
      "image/png": "[encoded data removed]",
      "text/plain": [
       "<Figure size 432x288 with 1 Axes>"
      ]
     },
     "metadata": {},
     "output_type": "display_data"
    }
   ],
   "source": [
    "fig = pyplot.figure()\n",
    "fig.suptitle('Serie without outlier')\n",
    "pyplot.plot(typicalDelays)\n",
    "pyplot.show()"
   ]
  },
  {
   "cell_type": "markdown",
   "metadata": {},
   "source": [
    "Found Outliers:"
   ]
  },
  {
   "cell_type": "code",
   "execution_count": 43,
   "metadata": {},
   "outputs": [
    {
     "data": {
      "text/plain": [
       "'2 of 972 (0.206%)'"
      ]
     },
     "execution_count": 43,
     "metadata": {},
     "output_type": "execute_result"
    }
   ],
   "source": [
    "\"%s of %s (%.3f%%)\" % ( len(delays) - len(typicalDelays), len(delays), 100*(1.0*len(delays) - len(typicalDelays))/len(delays) )"
   ]
  },
  {
   "cell_type": "code",
   "execution_count": 44,
   "metadata": {},
   "outputs": [
    {
     "data": {
      "text/plain": [
       "array([], dtype=int64)"
      ]
     },
     "execution_count": 44,
     "metadata": {},
     "output_type": "execute_result"
    }
   ],
   "source": [
    "delays[ delays < minVal ].values"
   ]
  },
  {
   "cell_type": "code",
   "execution_count": 45,
   "metadata": {},
   "outputs": [
    {
     "data": {
      "text/plain": [
       "array([ 40, 214])"
      ]
     },
     "execution_count": 45,
     "metadata": {},
     "output_type": "execute_result"
    }
   ],
   "source": [
    "delays[ maxVal < delays ].sort_values().values"
   ]
  },
  {
   "cell_type": "code",
   "execution_count": 51,
   "metadata": {},
   "outputs": [],
   "source": [
    "# All the above in one function\n",
    "def minmax_rank_based( values, sensitivity ):\n",
    "    value_counts = Series(values).value_counts()\n",
    "    cumsum = value_counts.cumsum()\n",
    "    typicalValues = cumsum[ cumsum <= sensitivity * value_counts.sum() ]\n",
    "    return min(typicalValues.index), max(typicalValues.index)"
   ]
  },
  {
   "cell_type": "code",
   "execution_count": 54,
   "metadata": {},
   "outputs": [
    {
     "data": {
      "text/plain": [
       "(1, 39)"
      ]
     },
     "execution_count": 54,
     "metadata": {},
     "output_type": "execute_result"
    }
   ],
   "source": [
    "minmax_rank_based( db.getDelays(510,511), SENSITIVITY )"
   ]
  },
  {
   "cell_type": "markdown",
   "metadata": {},
   "source": [
    "## Discussion\n",
    "I believe that the only clear outlier is 214. value=85 seems high in this set, it could be labeled as outlier too. But the other values looks pretty inside a normal range."
   ]
  }
 ],
 "metadata": {
  "kernelspec": {
   "display_name": "Python 2",
   "language": "python",
   "name": "python2"
  },
  "language_info": {
   "codemirror_mode": {
    "name": "ipython",
    "version": 2
   },
   "file_extension": ".py",
   "mimetype": "text/x-python",
   "name": "python",
   "nbconvert_exporter": "python",
   "pygments_lexer": "ipython2",
   "version": "2.7.15"
  }
 },
 "nbformat": 4,
 "nbformat_minor": 2
}
