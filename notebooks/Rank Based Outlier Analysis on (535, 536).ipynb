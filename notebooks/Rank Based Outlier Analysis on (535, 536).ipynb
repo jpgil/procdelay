{
 "cells": [
  {
   "cell_type": "markdown",
   "metadata": {},
   "source": [
    "# Rank Based Analysis: (535, 536)\n",
    "Outlier detection method proposed by Barbara. It is based on these steps: \n",
    "\n",
    "1. Order the set by rank on occurrences\n",
    "2. Extract the subset of values that happens `SENSITIVITY` of the time\n",
    "3. any value outside [ min(subset), max(subset) ] is an outlier \n",
    "\n",
    "Sensitivity is set to:"
   ]
  },
  {
   "cell_type": "code",
   "execution_count": 57,
   "metadata": {
    "collapsed": true
   },
   "outputs": [],
   "source": [
    "SENSITIVITY = 0.99"
   ]
  },
  {
   "cell_type": "code",
   "execution_count": 58,
   "metadata": {
    "collapsed": true
   },
   "outputs": [],
   "source": [
    "from src import *\n",
    "from src.models.AlmaClasses import *\n",
    "\n",
    "from pandas import Series\n",
    "from pandas import DataFrame\n",
    "from matplotlib import pyplot\n",
    "import numpy as np\n",
    "\n",
    "palette = PaletteFileDB(\n",
    "    filename='../data/processed/colors-almaAntenna.pkl', \n",
    "    colorFunction=paintedForAlmaAntennas )\n",
    "\n",
    "db = DelaysFileDB( \n",
    "    caseName=\"CaseAntennaObserving\", \n",
    "    path= '../' + config.FILEPATH_DB + \"/delays\")  "
   ]
  },
  {
   "cell_type": "markdown",
   "metadata": {},
   "source": [
    "## Pair to study\n",
    "As a first example we will study this pair:"
   ]
  },
  {
   "cell_type": "code",
   "execution_count": 59,
   "metadata": {
    "collapsed": true
   },
   "outputs": [],
   "source": [
    "(a,b) = (535, 536)\n",
    "# (a, b) = (543, 544)\n",
    "# (a, b) = (528, 533)"
   ]
  },
  {
   "cell_type": "code",
   "execution_count": 60,
   "metadata": {},
   "outputs": [
    {
     "data": {
      "text/plain": [
       "'C_535: [CONTROL/${ANT}/FrontEnd/IFSwitch - ] ContainerServices::getComponentNonSticky(CONTROL/${ANT}/IFProc_A)'"
      ]
     },
     "execution_count": 60,
     "metadata": {},
     "output_type": "execute_result"
    }
   ],
   "source": [
    " \"C_%s: %s\" % (a, palette.getColors()[a])"
   ]
  },
  {
   "cell_type": "code",
   "execution_count": 61,
   "metadata": {},
   "outputs": [
    {
     "data": {
      "text/plain": [
       "'C_536: [CONTROL/${ANT}/FrontEnd/IFSwitch - ] ContainerServices::getComponentNonSticky(CONTROL/${ANT}/IFProc_B)'"
      ]
     },
     "execution_count": 61,
     "metadata": {},
     "output_type": "execute_result"
    }
   ],
   "source": [
    "\"C_%s: %s\" % (b, palette.getColors()[b])"
   ]
  },
  {
   "cell_type": "markdown",
   "metadata": {},
   "source": [
    "`pandas.Series` is used below, it allows handy serie manipulation."
   ]
  },
  {
   "cell_type": "code",
   "execution_count": 62,
   "metadata": {
    "collapsed": true
   },
   "outputs": [],
   "source": [
    "delays = Series(db.getDelays(a,b))"
   ]
  },
  {
   "cell_type": "code",
   "execution_count": 63,
   "metadata": {},
   "outputs": [
    {
     "data": {
      "text/plain": [
       "count    4853.000000\n",
       "mean        7.221306\n",
       "std         6.029542\n",
       "min         1.000000\n",
       "25%         3.000000\n",
       "50%         6.000000\n",
       "75%        10.000000\n",
       "max       214.000000\n",
       "dtype: float64"
      ]
     },
     "execution_count": 63,
     "metadata": {},
     "output_type": "execute_result"
    }
   ],
   "source": [
    "delays.describe()"
   ]
  },
  {
   "cell_type": "code",
   "execution_count": 64,
   "metadata": {},
   "outputs": [
    {
     "data": {
      "image/png": "[encoded data removed]",
      "text/plain": [
       "<matplotlib.figure.Figure at 0x112d0b150>"
      ]
     },
     "metadata": {},
     "output_type": "display_data"
    }
   ],
   "source": [
    "fig = pyplot.figure()\n",
    "fig.suptitle('Original Serie')\n",
    "pyplot.plot(delays)\n",
    "pyplot.show()"
   ]
  },
  {
   "cell_type": "code",
   "execution_count": 65,
   "metadata": {},
   "outputs": [
    {
     "data": {
      "image/png": "[encoded data removed]",
      "text/plain": [
       "<matplotlib.figure.Figure at 0x112e05b50>"
      ]
     },
     "metadata": {},
     "output_type": "display_data"
    }
   ],
   "source": [
    "fig = pyplot.figure()\n",
    "fig.suptitle('Ordered Serie')\n",
    "# pyplot.yscale('log')\n",
    "pyplot.plot(sorted(delays, reverse=True))\n",
    "pyplot.show()"
   ]
  },
  {
   "cell_type": "code",
   "execution_count": 66,
   "metadata": {},
   "outputs": [
    {
     "data": {
      "image/png": "[encoded data removed]",
      "text/plain": [
       "<matplotlib.figure.Figure at 0x1152ec890>"
      ]
     },
     "metadata": {},
     "output_type": "display_data"
    }
   ],
   "source": [
    "# Simple boxplot\n",
    "pyplot.boxplot( delays )\n",
    "pyplot.show()"
   ]
  },
  {
   "cell_type": "code",
   "execution_count": 67,
   "metadata": {},
   "outputs": [],
   "source": [
    "# DataFrame(delays).boxplot()"
   ]
  },
  {
   "cell_type": "markdown",
   "metadata": {},
   "source": [
    "## Applying Method\n",
    "Extracting the rank based on # of occurrences, and make a plot"
   ]
  },
  {
   "cell_type": "code",
   "execution_count": 68,
   "metadata": {},
   "outputs": [
    {
     "name": "stdout",
     "output_type": "stream",
     "text": [
      "Value=3 happens 776 times\n",
      "Value=4 happens 568 times\n",
      "Value=12 happens 190 times\n"
     ]
    },
    {
     "data": {
      "text/plain": [
       "3      776\n",
       "4      568\n",
       "2      543\n",
       "5      378\n",
       "6      343\n",
       "7      283\n",
       "8      275\n",
       "9      265\n",
       "10     246\n",
       "11     224\n",
       "12     190\n",
       "13     177\n",
       "14     148\n",
       "15     117\n",
       "16      84\n",
       "1       70\n",
       "17      40\n",
       "18      33\n",
       "21      11\n",
       "19      11\n",
       "20       8\n",
       "32       6\n",
       "36       5\n",
       "24       5\n",
       "26       4\n",
       "40       4\n",
       "23       4\n",
       "28       3\n",
       "39       3\n",
       "25       3\n",
       "33       3\n",
       "34       3\n",
       "27       3\n",
       "31       3\n",
       "37       2\n",
       "41       2\n",
       "22       2\n",
       "29       1\n",
       "49       1\n",
       "35       1\n",
       "30       1\n",
       "38       1\n",
       "46       1\n",
       "214      1\n",
       "85       1\n",
       "dtype: int64"
      ]
     },
     "execution_count": 68,
     "metadata": {},
     "output_type": "execute_result"
    }
   ],
   "source": [
    "value_counts = delays.value_counts()\n",
    "\n",
    "print \"Value=%s happens %s times\" % (value_counts.index[0], value_counts.values[0])\n",
    "print \"Value=%s happens %s times\" % (value_counts.index[1], value_counts.values[1])\n",
    "print \"Value=%s happens %s times\" % (value_counts.index[10], value_counts.values[10])\n",
    "\n",
    "\n",
    "value_counts"
   ]
  },
  {
   "cell_type": "code",
   "execution_count": 69,
   "metadata": {},
   "outputs": [
    {
     "data": {
      "image/png": "[encoded data removed]",
      "text/plain": [
       "<matplotlib.figure.Figure at 0x1152e2a50>"
      ]
     },
     "metadata": {},
     "output_type": "display_data"
    }
   ],
   "source": [
    "pyplot.plot(value_counts.values)\n",
    "pyplot.show()"
   ]
  },
  {
   "cell_type": "markdown",
   "metadata": {},
   "source": [
    "The rank obtained in `value_counts` shows that the evident `outlier=214` happens only 1 time, 41 happens 2 times. Let's see the tail of the ordered original delays: (yes, they are here!)"
   ]
  },
  {
   "cell_type": "code",
   "execution_count": 70,
   "metadata": {},
   "outputs": [
    {
     "data": {
      "text/plain": [
       "[40, 40, 40, 40, 41, 41, 46, 49, 85, 214]"
      ]
     },
     "execution_count": 70,
     "metadata": {},
     "output_type": "execute_result"
    }
   ],
   "source": [
    "sorted(delays)[-10:]"
   ]
  },
  {
   "cell_type": "markdown",
   "metadata": {},
   "source": [
    "Now, obtain the subset of values that, combined, appears `SENSITIVE` amount of times"
   ]
  },
  {
   "cell_type": "code",
   "execution_count": 71,
   "metadata": {
    "collapsed": true
   },
   "outputs": [],
   "source": [
    "# Cumulative sum on value_counts.\n",
    "cumsum = value_counts.cumsum()"
   ]
  },
  {
   "cell_type": "code",
   "execution_count": 72,
   "metadata": {},
   "outputs": [
    {
     "data": {
      "text/plain": [
       "4853"
      ]
     },
     "execution_count": 72,
     "metadata": {},
     "output_type": "execute_result"
    }
   ],
   "source": [
    "total = cumsum[-1:].values[0]\n",
    "total"
   ]
  },
  {
   "cell_type": "code",
   "execution_count": 73,
   "metadata": {
    "collapsed": true
   },
   "outputs": [],
   "source": [
    "percentageCumsum = cumsum / total"
   ]
  },
  {
   "cell_type": "code",
   "execution_count": 74,
   "metadata": {},
   "outputs": [
    {
     "data": {
      "text/plain": [
       "3     0.159901\n",
       "4     0.276942\n",
       "2     0.388832\n",
       "5     0.466722\n",
       "6     0.537400\n",
       "7     0.595714\n",
       "8     0.652380\n",
       "9     0.706985\n",
       "10    0.757676\n",
       "11    0.803833\n",
       "12    0.842984\n",
       "13    0.879456\n",
       "14    0.909953\n",
       "15    0.934061\n",
       "16    0.951370\n",
       "1     0.965794\n",
       "17    0.974037\n",
       "18    0.980837\n",
       "21    0.983103\n",
       "19    0.985370\n",
       "20    0.987018\n",
       "32    0.988255\n",
       "36    0.989285\n",
       "dtype: float64"
      ]
     },
     "execution_count": 74,
     "metadata": {},
     "output_type": "execute_result"
    }
   ],
   "source": [
    "# Note that this method is simpler, but the very explicit results with percentageCumsum is shown for clarity\n",
    "#typicalValues = cumsum[ cumsum <= SENSITIVITY * total ]\n",
    "\n",
    "typicalValues = percentageCumsum[ percentageCumsum <= SENSITIVITY]\n",
    "typicalValues"
   ]
  },
  {
   "cell_type": "code",
   "execution_count": 75,
   "metadata": {},
   "outputs": [
    {
     "data": {
      "text/plain": [
       "(1, 36)"
      ]
     },
     "execution_count": 75,
     "metadata": {},
     "output_type": "execute_result"
    }
   ],
   "source": [
    "minVal, maxVal = min(typicalValues.index), max(typicalValues.index)\n",
    "minVal, maxVal"
   ]
  },
  {
   "cell_type": "markdown",
   "metadata": {},
   "source": [
    "# Testing the method\n",
    "A graph with the \"typical\" part (minVal < t < maxVal) is shown, with some stats metrics."
   ]
  },
  {
   "cell_type": "code",
   "execution_count": 76,
   "metadata": {},
   "outputs": [
    {
     "data": {
      "text/plain": [
       "count    4837.000000\n",
       "mean        7.066363\n",
       "std         4.810162\n",
       "min         1.000000\n",
       "25%         3.000000\n",
       "50%         6.000000\n",
       "75%        10.000000\n",
       "max        36.000000\n",
       "dtype: float64"
      ]
     },
     "execution_count": 76,
     "metadata": {},
     "output_type": "execute_result"
    }
   ],
   "source": [
    "typicalDelays = delays[ minVal <= delays ][ delays <= maxVal ]\n",
    "typicalDelays.describe()"
   ]
  },
  {
   "cell_type": "code",
   "execution_count": 77,
   "metadata": {},
   "outputs": [
    {
     "data": {
      "image/png": "[encoded data removed]",
      "text/plain": [
       "<matplotlib.figure.Figure at 0x115371690>"
      ]
     },
     "metadata": {},
     "output_type": "display_data"
    }
   ],
   "source": [
    "fig = pyplot.figure()\n",
    "fig.suptitle('Serie without outlier')\n",
    "pyplot.plot(typicalDelays)\n",
    "pyplot.show()"
   ]
  },
  {
   "cell_type": "markdown",
   "metadata": {},
   "source": [
    "Found Outliers:"
   ]
  },
  {
   "cell_type": "code",
   "execution_count": 78,
   "metadata": {},
   "outputs": [
    {
     "data": {
      "text/plain": [
       "'16 of 4853 (0.330%)'"
      ]
     },
     "execution_count": 78,
     "metadata": {},
     "output_type": "execute_result"
    }
   ],
   "source": [
    "\"%s of %s (%.3f%%)\" % ( len(delays) - len(typicalDelays), len(delays), 100*(1.0*len(delays) - len(typicalDelays))/len(delays) )"
   ]
  },
  {
   "cell_type": "code",
   "execution_count": 79,
   "metadata": {},
   "outputs": [
    {
     "data": {
      "text/plain": [
       "array([], dtype=int64)"
      ]
     },
     "execution_count": 79,
     "metadata": {},
     "output_type": "execute_result"
    }
   ],
   "source": [
    "delays[ delays < minVal ].values"
   ]
  },
  {
   "cell_type": "code",
   "execution_count": 80,
   "metadata": {},
   "outputs": [
    {
     "data": {
      "text/plain": [
       "array([ 37,  37,  38,  39,  39,  39,  40,  40,  40,  40,  41,  41,  46,\n",
       "        49,  85, 214])"
      ]
     },
     "execution_count": 80,
     "metadata": {},
     "output_type": "execute_result"
    }
   ],
   "source": [
    "delays[ maxVal < delays ].sort_values().values"
   ]
  },
  {
   "cell_type": "code",
   "execution_count": 81,
   "metadata": {
    "collapsed": true
   },
   "outputs": [],
   "source": [
    "# All the above in one function\n",
    "def minmax_rank_based( values, sensitivity ):\n",
    "    value_counts = Series(delays).value_counts()\n",
    "    cumsum = value_counts.cumsum()\n",
    "    typicalValues = cumsum[ cumsum <= sensitivity * value_counts.sum() ]\n",
    "    return min(typicalValues.index), max(typicalValues.index)"
   ]
  },
  {
   "cell_type": "code",
   "execution_count": 82,
   "metadata": {},
   "outputs": [
    {
     "data": {
      "text/plain": [
       "(1, 36)"
      ]
     },
     "execution_count": 82,
     "metadata": {},
     "output_type": "execute_result"
    }
   ],
   "source": [
    "minmax_rank_based( db.getDelays(535,536), SENSITIVITY )"
   ]
  },
  {
   "cell_type": "markdown",
   "metadata": {},
   "source": [
    "## Discussion\n",
    "I believe that the only clear outlier is 214. value=85 seems high in this set, it could be labeled as outlier too. But the other values looks pretty inside a normal range."
   ]
  }
 ],
 "metadata": {
  "kernelspec": {
   "display_name": "Python 2",
   "language": "python",
   "name": "python2"
  },
  "language_info": {
   "codemirror_mode": {
    "name": "ipython",
    "version": 2
   },
   "file_extension": ".py",
   "mimetype": "text/x-python",
   "name": "python",
   "nbconvert_exporter": "python",
   "pygments_lexer": "ipython2",
   "version": "2.7.10"
  }
 },
 "nbformat": 4,
 "nbformat_minor": 2
}
