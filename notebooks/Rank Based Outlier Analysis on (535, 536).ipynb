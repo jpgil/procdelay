{
 "cells": [
  {
   "cell_type": "markdown",
   "metadata": {},
   "source": [
    "# Rank Based Analysis: (535, 536)\n",
    "Outlier detection method proposed by Barbara. It is based on these steps: \n",
    "\n",
    "1. Order the set by rank on occurrences\n",
    "2. Extract the subset of values that happens `SENSITIVITY` of the time\n",
    "3. any value outside [ min(subset), max(subset) ] is an outlier \n",
    "\n",
    "Sensitivity is set to:"
   ]
  },
  {
   "cell_type": "code",
   "execution_count": 177,
   "metadata": {
    "collapsed": true
   },
   "outputs": [],
   "source": [
    "SENSITIVITY = 0.80"
   ]
  },
  {
   "cell_type": "code",
   "execution_count": 178,
   "metadata": {},
   "outputs": [],
   "source": [
    "from src import *\n",
    "from src.models.AlmaClasses import *\n",
    "\n",
    "from pandas import Series\n",
    "from pandas import DataFrame\n",
    "from matplotlib import pyplot\n",
    "import numpy as np\n",
    "\n",
    "palette = PaletteFileDB(\n",
    "    filename='../data/processed/colors-almaAntenna.pkl', \n",
    "    colorFunction=paintedForAlmaAntennas )\n",
    "\n",
    "db = DelaysFileDB( \n",
    "    caseName=\"CaseAntennaObserving\", \n",
    "    path= '../' + config.FILEPATH_DB + \"/delays\")  "
   ]
  },
  {
   "cell_type": "markdown",
   "metadata": {},
   "source": [
    "## Pair to study\n",
    "As a first example we will study this pair:"
   ]
  },
  {
   "cell_type": "code",
   "execution_count": 179,
   "metadata": {
    "collapsed": true
   },
   "outputs": [],
   "source": [
    "(a,b) = (535, 536)\n",
    "# (a, b) = (543, 544)"
   ]
  },
  {
   "cell_type": "code",
   "execution_count": 180,
   "metadata": {},
   "outputs": [
    {
     "data": {
      "text/plain": [
       "'C_535: [CONTROL/${ANT}/FrontEnd/IFSwitch - ] ContainerServices::getComponentNonSticky(CONTROL/${ANT}/IFProc_A)'"
      ]
     },
     "execution_count": 180,
     "metadata": {},
     "output_type": "execute_result"
    }
   ],
   "source": [
    " \"C_%s: %s\" % (a, palette.getColors()[a])"
   ]
  },
  {
   "cell_type": "code",
   "execution_count": 181,
   "metadata": {},
   "outputs": [
    {
     "data": {
      "text/plain": [
       "'C_536: [CONTROL/${ANT}/FrontEnd/IFSwitch - ] ContainerServices::getComponentNonSticky(CONTROL/${ANT}/IFProc_B)'"
      ]
     },
     "execution_count": 181,
     "metadata": {},
     "output_type": "execute_result"
    }
   ],
   "source": [
    "\"C_%s: %s\" % (b, palette.getColors()[b])"
   ]
  },
  {
   "cell_type": "markdown",
   "metadata": {},
   "source": [
    "`pandas.Series` is used below, it allows handy serie manipulation."
   ]
  },
  {
   "cell_type": "code",
   "execution_count": 182,
   "metadata": {},
   "outputs": [],
   "source": [
    "delays = Series(db.getDelays(a,b))"
   ]
  },
  {
   "cell_type": "code",
   "execution_count": 183,
   "metadata": {},
   "outputs": [
    {
     "data": {
      "text/plain": [
       "count    4778.000000\n",
       "mean        7.178317\n",
       "std         6.034547\n",
       "min         1.000000\n",
       "25%         3.000000\n",
       "50%         6.000000\n",
       "75%        10.000000\n",
       "max       214.000000\n",
       "dtype: float64"
      ]
     },
     "execution_count": 183,
     "metadata": {},
     "output_type": "execute_result"
    }
   ],
   "source": [
    "delays.describe()"
   ]
  },
  {
   "cell_type": "code",
   "execution_count": 184,
   "metadata": {},
   "outputs": [
    {
     "data": {
      "image/png": "[encoded data removed]",
      "text/plain": [
       "<matplotlib.figure.Figure at 0x115027b50>"
      ]
     },
     "metadata": {},
     "output_type": "display_data"
    }
   ],
   "source": [
    "fig = pyplot.figure()\n",
    "fig.suptitle('Original Serie')\n",
    "pyplot.plot(delays)\n",
    "pyplot.show()"
   ]
  },
  {
   "cell_type": "code",
   "execution_count": 185,
   "metadata": {},
   "outputs": [
    {
     "data": {
      "image/png": "[encoded data removed]",
      "text/plain": [
       "<matplotlib.figure.Figure at 0x116b1a850>"
      ]
     },
     "metadata": {},
     "output_type": "display_data"
    }
   ],
   "source": [
    "fig = pyplot.figure()\n",
    "fig.suptitle('Ordered Serie')\n",
    "# pyplot.yscale('log')\n",
    "pyplot.plot(sorted(delays, reverse=True))\n",
    "pyplot.show()"
   ]
  },
  {
   "cell_type": "code",
   "execution_count": 203,
   "metadata": {},
   "outputs": [
    {
     "data": {
      "image/png": "[encoded data removed]",
      "text/plain": [
       "<matplotlib.figure.Figure at 0x115605ed0>"
      ]
     },
     "metadata": {},
     "output_type": "display_data"
    }
   ],
   "source": [
    "# Simple boxplot\n",
    "pyplot.boxplot( delays )\n",
    "pyplot.show()"
   ]
  },
  {
   "cell_type": "code",
   "execution_count": 187,
   "metadata": {},
   "outputs": [
    {
     "data": {
      "text/plain": [
       "<matplotlib.axes._subplots.AxesSubplot at 0x1150b1f90>"
      ]
     },
     "execution_count": 187,
     "metadata": {},
     "output_type": "execute_result"
    }
   ],
   "source": [
    "DataFrame(delays).boxplot()"
   ]
  },
  {
   "cell_type": "markdown",
   "metadata": {},
   "source": [
    "## Applying Method\n",
    "Extracting the rank based on # of occurrences, and make a plot"
   ]
  },
  {
   "cell_type": "code",
   "execution_count": 204,
   "metadata": {},
   "outputs": [
    {
     "name": "stdout",
     "output_type": "stream",
     "text": [
      "Value=3 happens 774 times\n",
      "Value=4 happens 564 times\n",
      "Value=12 happens 188 times\n"
     ]
    },
    {
     "data": {
      "text/plain": [
       "3      774\n",
       "4      564\n",
       "2      543\n",
       "5      377\n",
       "6      340\n",
       "7      278\n",
       "8      265\n",
       "9      254\n",
       "10     235\n",
       "11     207\n",
       "12     188\n",
       "13     172\n",
       "14     148\n",
       "15     116\n",
       "16      83\n",
       "1       70\n",
       "17      40\n",
       "18      33\n",
       "19      11\n",
       "21      11\n",
       "20       8\n",
       "32       5\n",
       "36       5\n",
       "24       5\n",
       "40       4\n",
       "23       4\n",
       "26       4\n",
       "28       3\n",
       "33       3\n",
       "31       3\n",
       "25       3\n",
       "34       3\n",
       "27       3\n",
       "39       2\n",
       "37       2\n",
       "41       2\n",
       "22       2\n",
       "29       1\n",
       "49       1\n",
       "35       1\n",
       "30       1\n",
       "38       1\n",
       "46       1\n",
       "214      1\n",
       "85       1\n",
       "dtype: int64"
      ]
     },
     "execution_count": 204,
     "metadata": {},
     "output_type": "execute_result"
    }
   ],
   "source": [
    "value_counts = delays.value_counts()\n",
    "\n",
    "print \"Value=%s happens %s times\" % (value_counts.index[0], value_counts.values[0])\n",
    "print \"Value=%s happens %s times\" % (value_counts.index[1], value_counts.values[1])\n",
    "print \"Value=%s happens %s times\" % (value_counts.index[10], value_counts.values[10])\n",
    "\n",
    "\n",
    "value_counts"
   ]
  },
  {
   "cell_type": "code",
   "execution_count": 205,
   "metadata": {},
   "outputs": [
    {
     "data": {
      "image/png": "[encoded data removed]",
      "text/plain": [
       "<matplotlib.figure.Figure at 0x116a9c090>"
      ]
     },
     "metadata": {},
     "output_type": "display_data"
    }
   ],
   "source": [
    "pyplot.plot(value_counts.values)\n",
    "pyplot.show()"
   ]
  },
  {
   "cell_type": "markdown",
   "metadata": {},
   "source": [
    "The rank obtained in `value_counts` shows that the evident `outlier=214` happens only 1 time, 41 happens 2 times. Let's see the tail of the ordered original delays: (yes, they are here!)"
   ]
  },
  {
   "cell_type": "code",
   "execution_count": 190,
   "metadata": {},
   "outputs": [
    {
     "data": {
      "text/plain": [
       "[40, 40, 40, 40, 41, 41, 46, 49, 85, 214]"
      ]
     },
     "execution_count": 190,
     "metadata": {},
     "output_type": "execute_result"
    }
   ],
   "source": [
    "sorted(delays)[-10:]"
   ]
  },
  {
   "cell_type": "markdown",
   "metadata": {},
   "source": [
    "Now, obtain the subset of values that, combined, appears `SENSITIVE` amount of times"
   ]
  },
  {
   "cell_type": "code",
   "execution_count": 191,
   "metadata": {},
   "outputs": [
    {
     "data": {
      "text/plain": [
       "3       774\n",
       "4      1338\n",
       "2      1881\n",
       "5      2258\n",
       "6      2598\n",
       "7      2876\n",
       "8      3141\n",
       "9      3395\n",
       "10     3630\n",
       "11     3837\n",
       "12     4025\n",
       "13     4197\n",
       "14     4345\n",
       "15     4461\n",
       "16     4544\n",
       "1      4614\n",
       "17     4654\n",
       "18     4687\n",
       "19     4698\n",
       "21     4709\n",
       "20     4717\n",
       "32     4722\n",
       "36     4727\n",
       "24     4732\n",
       "40     4736\n",
       "23     4740\n",
       "26     4744\n",
       "28     4747\n",
       "33     4750\n",
       "31     4753\n",
       "25     4756\n",
       "34     4759\n",
       "27     4762\n",
       "39     4764\n",
       "37     4766\n",
       "41     4768\n",
       "22     4770\n",
       "29     4771\n",
       "49     4772\n",
       "35     4773\n",
       "30     4774\n",
       "38     4775\n",
       "46     4776\n",
       "214    4777\n",
       "85     4778\n",
       "dtype: int64"
      ]
     },
     "execution_count": 191,
     "metadata": {},
     "output_type": "execute_result"
    }
   ],
   "source": [
    "# Cumulative sum on value_counts.\n",
    "cumsum = value_counts.cumsum()\n",
    "cumsum"
   ]
  },
  {
   "cell_type": "code",
   "execution_count": 192,
   "metadata": {},
   "outputs": [
    {
     "data": {
      "text/plain": [
       "4778"
      ]
     },
     "execution_count": 192,
     "metadata": {},
     "output_type": "execute_result"
    }
   ],
   "source": [
    "total = cumsum[-1:].values[0]\n",
    "total"
   ]
  },
  {
   "cell_type": "code",
   "execution_count": 193,
   "metadata": {},
   "outputs": [
    {
     "data": {
      "text/plain": [
       "3      0.161992\n",
       "4      0.280033\n",
       "2      0.393679\n",
       "5      0.472583\n",
       "6      0.543742\n",
       "7      0.601925\n",
       "8      0.657388\n",
       "9      0.710548\n",
       "10     0.759732\n",
       "11     0.803056\n",
       "12     0.842403\n",
       "13     0.878401\n",
       "14     0.909376\n",
       "15     0.933654\n",
       "16     0.951026\n",
       "1      0.965676\n",
       "17     0.974048\n",
       "18     0.980954\n",
       "19     0.983257\n",
       "21     0.985559\n",
       "20     0.987233\n",
       "32     0.988280\n",
       "36     0.989326\n",
       "24     0.990373\n",
       "40     0.991210\n",
       "23     0.992047\n",
       "26     0.992884\n",
       "28     0.993512\n",
       "33     0.994140\n",
       "31     0.994768\n",
       "25     0.995396\n",
       "34     0.996023\n",
       "27     0.996651\n",
       "39     0.997070\n",
       "37     0.997488\n",
       "41     0.997907\n",
       "22     0.998326\n",
       "29     0.998535\n",
       "49     0.998744\n",
       "35     0.998954\n",
       "30     0.999163\n",
       "38     0.999372\n",
       "46     0.999581\n",
       "214    0.999791\n",
       "85     1.000000\n",
       "dtype: float64"
      ]
     },
     "execution_count": 193,
     "metadata": {},
     "output_type": "execute_result"
    }
   ],
   "source": [
    "percentageCumsum = cumsum / total\n",
    "percentageCumsum "
   ]
  },
  {
   "cell_type": "code",
   "execution_count": 194,
   "metadata": {},
   "outputs": [
    {
     "data": {
      "text/plain": [
       "3     0.161992\n",
       "4     0.280033\n",
       "2     0.393679\n",
       "5     0.472583\n",
       "6     0.543742\n",
       "7     0.601925\n",
       "8     0.657388\n",
       "9     0.710548\n",
       "10    0.759732\n",
       "dtype: float64"
      ]
     },
     "execution_count": 194,
     "metadata": {},
     "output_type": "execute_result"
    }
   ],
   "source": [
    "# Note that this method is simpler, but the very explicit results with percentageCumsum is shown for clarity\n",
    "#typicalValues = cumsum[ cumsum <= SENSITIVITY * total ]\n",
    "\n",
    "typicalValues = percentageCumsum[ percentageCumsum <= SENSITIVITY]\n",
    "typicalValues"
   ]
  },
  {
   "cell_type": "code",
   "execution_count": 195,
   "metadata": {},
   "outputs": [
    {
     "data": {
      "text/plain": [
       "(2, 10)"
      ]
     },
     "execution_count": 195,
     "metadata": {},
     "output_type": "execute_result"
    }
   ],
   "source": [
    "minVal, maxVal = min(typicalValues.index), max(typicalValues.index)\n",
    "minVal, maxVal"
   ]
  },
  {
   "cell_type": "markdown",
   "metadata": {},
   "source": [
    "# Testing the method\n",
    "A graph with the \"typical\" part (minVal < t < maxVal) is shown, with some stats metrics."
   ]
  },
  {
   "cell_type": "code",
   "execution_count": 196,
   "metadata": {},
   "outputs": [
    {
     "data": {
      "text/plain": [
       "count    3630.000000\n",
       "mean        5.038843\n",
       "std         2.479873\n",
       "min         2.000000\n",
       "25%         3.000000\n",
       "50%         4.000000\n",
       "75%         7.000000\n",
       "max        10.000000\n",
       "dtype: float64"
      ]
     },
     "execution_count": 196,
     "metadata": {},
     "output_type": "execute_result"
    }
   ],
   "source": [
    "typicalDelays = delays[ minVal <= delays ][ delays <= maxVal ]\n",
    "typicalDelays.describe()"
   ]
  },
  {
   "cell_type": "code",
   "execution_count": 197,
   "metadata": {},
   "outputs": [
    {
     "data": {
      "image/png": "[encoded data removed]",
      "text/plain": [
       "<matplotlib.figure.Figure at 0x1136d17d0>"
      ]
     },
     "metadata": {},
     "output_type": "display_data"
    }
   ],
   "source": [
    "fig = pyplot.figure()\n",
    "fig.suptitle('Serie without outlier')\n",
    "pyplot.plot(typicalDelays)\n",
    "pyplot.show()"
   ]
  },
  {
   "cell_type": "markdown",
   "metadata": {},
   "source": [
    "Found Outliers:"
   ]
  },
  {
   "cell_type": "code",
   "execution_count": 198,
   "metadata": {},
   "outputs": [
    {
     "data": {
      "text/plain": [
       "'1148 of 4778 (0.240%)'"
      ]
     },
     "execution_count": 198,
     "metadata": {},
     "output_type": "execute_result"
    }
   ],
   "source": [
    "\"%s of %s (%.3f%%)\" % ( len(delays) - len(typicalDelays), len(delays), (1.0*len(delays) - len(typicalDelays))/len(delays) )"
   ]
  },
  {
   "cell_type": "code",
   "execution_count": 199,
   "metadata": {},
   "outputs": [
    {
     "data": {
      "text/plain": [
       "array([1, 1, 1, 1, 1, 1, 1, 1, 1, 1, 1, 1, 1, 1, 1, 1, 1, 1, 1, 1, 1, 1, 1,\n",
       "       1, 1, 1, 1, 1, 1, 1, 1, 1, 1, 1, 1, 1, 1, 1, 1, 1, 1, 1, 1, 1, 1, 1,\n",
       "       1, 1, 1, 1, 1, 1, 1, 1, 1, 1, 1, 1, 1, 1, 1, 1, 1, 1, 1, 1, 1, 1, 1,\n",
       "       1])"
      ]
     },
     "execution_count": 199,
     "metadata": {},
     "output_type": "execute_result"
    }
   ],
   "source": [
    "delays[ delays < minVal ].values"
   ]
  },
  {
   "cell_type": "code",
   "execution_count": 200,
   "metadata": {},
   "outputs": [
    {
     "data": {
      "text/plain": [
       "array([ 11,  11,  11, ...,  49,  85, 214])"
      ]
     },
     "execution_count": 200,
     "metadata": {},
     "output_type": "execute_result"
    }
   ],
   "source": [
    "delays[ maxVal < delays ].sort_values().values"
   ]
  },
  {
   "cell_type": "code",
   "execution_count": 201,
   "metadata": {
    "collapsed": true
   },
   "outputs": [],
   "source": [
    "# All the above in one function\n",
    "def minmax_rank_based( values, sensitivity ):\n",
    "    value_counts = Series(delays).value_counts()\n",
    "    cumsum = value_counts.cumsum()\n",
    "    typicalValues = cumsum[ cumsum <= sensitivity * value_counts.sum() ]\n",
    "    return min(typicalValues.index), max(typicalValues.index)"
   ]
  },
  {
   "cell_type": "code",
   "execution_count": 202,
   "metadata": {},
   "outputs": [
    {
     "data": {
      "text/plain": [
       "(2, 10)"
      ]
     },
     "execution_count": 202,
     "metadata": {},
     "output_type": "execute_result"
    }
   ],
   "source": [
    "minmax_rank_based( db.getDelays(535,536), SENSITIVITY )"
   ]
  },
  {
   "cell_type": "markdown",
   "metadata": {},
   "source": [
    "## Discussion\n",
    "I believe that the only clear outlier is 214. value=85 seems high in this set, it could be labeled as outlier too. But the other values looks pretty inside a normal range."
   ]
  }
 ],
 "metadata": {
  "kernelspec": {
   "display_name": "Python 2",
   "language": "python",
   "name": "python2"
  },
  "language_info": {
   "codemirror_mode": {
    "name": "ipython",
    "version": 2
   },
   "file_extension": ".py",
   "mimetype": "text/x-python",
   "name": "python",
   "nbconvert_exporter": "python",
   "pygments_lexer": "ipython2",
   "version": "2.7.10"
  }
 },
 "nbformat": 4,
 "nbformat_minor": 2
}
