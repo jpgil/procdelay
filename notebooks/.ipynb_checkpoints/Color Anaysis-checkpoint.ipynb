{
 "cells": [
  {
   "cell_type": "markdown",
   "metadata": {},
   "source": [
    "This document explains the strategy used to clusterize free text logs by looking the constant part. First, you need to import the code available at https://bitbucket.org/jpgil_cl/procdelays."
   ]
  },
  {
   "cell_type": "markdown",
   "metadata": {},
   "source": [
    "# How to color\n",
    "The colors below were generated using `paintedForAlmaAntennas` function, which remove numbers but keeps some specific equipment that must be distinguished uniquely. "
   ]
  },
  {
   "cell_type": "code",
   "execution_count": 1,
   "metadata": {},
   "outputs": [],
   "source": [
    "from src.models.AlmaClasses import paintedForAlmaAntennas"
   ]
  },
  {
   "cell_type": "code",
   "execution_count": 2,
   "metadata": {},
   "outputs": [
    {
     "data": {
      "text/plain": [
       "'Example'"
      ]
     },
     "execution_count": 2,
     "metadata": {},
     "output_type": "execute_result"
    }
   ],
   "source": [
    "paintedForAlmaAntennas(\"Example\")"
   ]
  },
  {
   "cell_type": "code",
   "execution_count": 3,
   "metadata": {},
   "outputs": [
    {
     "data": {
      "text/plain": [
       "'Example with ${N} number'"
      ]
     },
     "execution_count": 3,
     "metadata": {},
     "output_type": "execute_result"
    }
   ],
   "source": [
    "paintedForAlmaAntennas(\"Example with 1 number\")"
   ]
  },
  {
   "cell_type": "code",
   "execution_count": 4,
   "metadata": {},
   "outputs": [
    {
     "data": {
      "text/plain": [
       "'Specific ${N} antennas: ${ANT} and ${ANT}'"
      ]
     },
     "execution_count": 4,
     "metadata": {},
     "output_type": "execute_result"
    }
   ],
   "source": [
    "paintedForAlmaAntennas(\"Specific 2 antennas: DV01 and CM12\")"
   ]
  },
  {
   "cell_type": "code",
   "execution_count": 5,
   "metadata": {
    "scrolled": true
   },
   "outputs": [
    {
     "data": {
      "text/plain": [
       "'Specific hardware: IFProc_A and IFProc_B. Compare with others like DTX${N}, DTX${N}, and so on.'"
      ]
     },
     "execution_count": 5,
     "metadata": {},
     "output_type": "execute_result"
    }
   ],
   "source": [
    "paintedForAlmaAntennas(\"Specific hardware: IFProc0 and IFProc1. Compare with others like DTX0, DTX1, and so on.\")"
   ]
  },
  {
   "cell_type": "markdown",
   "metadata": {},
   "source": [
    "# Discovered Palette\n",
    "Some statistic and counting over colors. The palette has a dictionary that is persistent on executions (it mixes all the analysis in all files), but it does not count colors or instances per case. For that, you need to use a special class called CaseStats."
   ]
  },
  {
   "cell_type": "code",
   "execution_count": 6,
   "metadata": {},
   "outputs": [
    {
     "data": {
      "text/plain": [
       "1468"
      ]
     },
     "execution_count": 6,
     "metadata": {},
     "output_type": "execute_result"
    }
   ],
   "source": [
    "from src import *\n",
    "from src.models.AlmaClasses import *\n",
    "palette = PaletteFileDB(\n",
    "    filename='../data/processed/colors-almaAntenna.pkl', \n",
    "    colorFunction=paintedForAlmaAntennas )\n",
    "\n",
    "colors=palette.getColors()\n",
    "len(colors)"
   ]
  },
  {
   "cell_type": "markdown",
   "metadata": {},
   "source": [
    "To see one color you can query by index, or by the color itself"
   ]
  },
  {
   "cell_type": "code",
   "execution_count": 7,
   "metadata": {},
   "outputs": [
    {
     "data": {
      "text/plain": [
       "'[CONTROL/${ANT}/cppContainer-GL - void Control::AntennaImpl::resynchroniseLORR()] Antenna ID Error (type=${N}, code=${N}) Detail=\"The LORR reports an unsynchronised TE signal. Please check that the LORR is in good shape and that the incoming TE signal is alive.\"'"
      ]
     },
     "execution_count": 7,
     "metadata": {},
     "output_type": "execute_result"
    }
   ],
   "source": [
    "colors[952]"
   ]
  },
  {
   "cell_type": "code",
   "execution_count": 8,
   "metadata": {},
   "outputs": [
    {
     "data": {
      "text/plain": [
       "'[CONTROL/${ANT}/DTXBBpr_AWriterThread - virtual Logging::Logger::~Logger()] LOGGING STATISTICS FOR: Undefined.CONTROL/${ANT}/DTXBBpr_AWriterThread ErrorMessageIncrement=\"nan\" MessageIncrement=\"nan\" LastPeriodNumberOfErrorMessages=\"${N}\" LastPeriodNumberOfMessages=\"${N}\" LastPeriodDuration=\"${N}\" ErrorMessageStatistics=\"${N}\" MessageStatistics=\"${N}\" StatisticsGranularity=\"${N}\" LoggerId=\"CONTROL/${ANT}/DTXBBpr_AWriterThread\" StatisticsIdentification=\"Undefined\"'"
      ]
     },
     "execution_count": 8,
     "metadata": {},
     "output_type": "execute_result"
    }
   ],
   "source": [
    "colors[653]"
   ]
  },
  {
   "cell_type": "code",
   "execution_count": 11,
   "metadata": {},
   "outputs": [
    {
     "data": {
      "text/plain": [
       "511"
      ]
     },
     "execution_count": 11,
     "metadata": {},
     "output_type": "execute_result"
    }
   ],
   "source": [
    "palette.index(\"[CONTROL/${ANT}/FrontEnd/IFSwitch - ] ContainerServices::getComponentNonSticky(CONTROL/${ANT}/IFProc_B)\")"
   ]
  },
  {
   "cell_type": "markdown",
   "metadata": {},
   "source": [
    "Below is shown a subset of the colors:"
   ]
  },
  {
   "cell_type": "code",
   "execution_count": 47,
   "metadata": {
    "scrolled": true
   },
   "outputs": [
    {
     "name": "stdout",
     "output_type": "stream",
     "text": [
      "Color 621: [CONTROL/${ANT}/cppContainer-GL - virtual CORBA::Long PowerDistBase::GET_CARTRIDGE_ENABLE(ACS::Time&)] Inactive (type=${N}, code=${N})\n",
      "Color 622: LoggingProxy: Disconnected from the Centralized Logger, using local logging cache.\n",
      "Color 623: Failed to create cache logger. Logging cache is lost!\n",
      "Color 624: [CONTROL/${ANT}/cppContainer-GL - BaseSupplier::publishEvent] Failed to send an event of type 'ACSJMSMessageEntity' to the 'CMW.ALARM_SYSTEM.ALARMS.SO\n",
      "Color 625: [CONTROL/${ANT}/cppContainer-GL - ] Error getting TMCDB component\n",
      "Color 626: [CONTROL/${ANT}/cppContainer-GL - virtual std::string XmlTmcdbComponent::getConfigXml(const std::string&)] Tmcdb access is _nil, trying to get data fr\n",
      "Color 627: [CONTROL/${ANT}/cppContainer-GL - virtual std::string XmlTmcdbComponent::getConfigXsd(const std::string&)] Tmcdb access is _nil, trying to get data fr\n",
      "Color 628: [CONTROL/${ANT}/cppContainer-GL - virtual uint${N}_t IFProcBase::getTimingErrorFlag(ACS::Time&)] Inactive (type=${N}, code=${N}) UserErrorMessage=\"Can\n",
      "Color 629: [CONTROL/${ANT}/LOtwoBBpr_A - virtual void LO${N}Impl::hwInitializeAction()] Got no reference for the TMCDB Access component. Cannot set the LO offset\n",
      "Color 630: [CONTROL/${ANT}/LOtwoBBpr_B - virtual void LO${N}Impl::hwInitializeAction()] Got no reference for the TMCDB Access component. Cannot set the LO offset\n",
      "Color 631: [CONTROL/${ANT}/LOtwoBBpr_C - virtual void LO${N}Impl::hwInitializeAction()] Got no reference for the TMCDB Access component. Cannot set the LO offset\n",
      "Color 632: [CONTROL/${ANT}/LOtwoBBpr_D - virtual void LO${N}Impl::hwInitializeAction()] Got no reference for the TMCDB Access component. Cannot set the LO offset\n",
      "Color 633: [CONTROL/${ANT}/MountWriterThread - virtual Logging::Logger::~Logger()] LOGGING STATISTICS FOR: Undefined.CONTROL/${ANT}/MountWriterThread ErrorMessag\n",
      "Color 634: [CONTROL/${ANT}/MountReaderThread - virtual Logging::Logger::~Logger()] LOGGING STATISTICS FOR: Undefined.CONTROL/${ANT}/MountReaderThread ErrorMessag\n",
      "Color 635: [CONTROL/${ANT}/cppContainer-GL - ] push_structured_event failed. Supplier will try to reconnect to NS and trying again\n",
      "Color 636: [CONTROL/${ANT}/cppContainer-GL - ] Helper::resolveNameService CORBA exception caught for the 'CONTROL_SYSTEM' channel!\n",
      "Color 637: [CONTROL/${ANT}/cppContainer-GL - ] Supplier couldn't reconnect to the channel\n",
      "Color 638: Local file logger: Cache saved to '/alma/ACS-DEC${N}/acsdata/tmp/da${N}-abm/daemons_${N}${N}${N}T${N}:${N}:${N}/acs_local_log_cppContainer_${N}'.\n",
      "Color 639: [CONTROL/${ANT}/FrontEnd/ColdCart${N} - virtual void ColdCartSISImpl::mixerDeflux()] Timeout during the mixer deflux. Expected temperatures: (${N},${N\n",
      "Color 640: [CONTROL/${ANT}/cppContainer-GL - ] Created the thread responsible for checking the status of the Notify Channel CONTROL_REALTIME_DA\n",
      "Color 641: [CONTROL/${ANT}/cppContainer-GL - ] Switched state of component CONTROL/${ANT}/MountController: OPERATIONAL -> DESTROYING\n",
      "Color 642: [CONTROL/${ANT}/MountController - virtual void Control::MountControllerImpl::releaseReferences()] Suspending the TrajectoryPlannerThread before releas\n",
      "Color 643: [CONTROL/${ANT}/cppContainer-GL - ] Destroyed the thread responsible for checking the status of the Notify Channel CONTROL_REALTIME_DA\n",
      "Color 644: [CONTROL/${ANT}/cppContainer-GL - ] Switched state of component CONTROL/${ANT}/MountController: DESTROYING -> DEFUNCT\n",
      "Color 645: [CONTROL/${ANT}/cppContainer - maci::ContainerImpl::etherealizeComponent] Component 'CONTROL/${ANT}/MountController' etherealized.\n",
      "Color 646: [maci::LibraryManager - maci::LibraryManager::unload] Unloaded '${PATH}/libMountController.so'.\n",
      "Color 647: [CONTROL/${ANT}/cppContainer - maci::ContainerImpl::deactivate_component] Component 'CONTROL/${ANT}/MountController' deactivated.\n",
      "Color 648: [CONTROL/${ANT} - ] ContainerServices::getComponentNonSticky(CONTROL/Array${N})\n",
      "Color 649: [CONTROL/${ANT} - ] ContainerServices::getComponentNonSticky(CONTROL/${ANT}/SAS)\n"
     ]
    }
   ],
   "source": [
    "for i in range(621,650):\n",
    "    print (\"Color %d: %s\" % (i, colors[i][:150]))"
   ]
  },
  {
   "cell_type": "markdown",
   "metadata": {},
   "source": [
    "Those colors were obtained in near 10 minutes over these 6 files. Note that there are 270 files that can be processed:"
   ]
  },
  {
   "cell_type": "code",
   "execution_count": 48,
   "metadata": {},
   "outputs": [
    {
     "name": "stdout",
     "output_type": "stream",
     "text": [
      "dv25-acsStartContainer_cppContainer_2017-07-10_17.03.32.841_STRIPPED\r\n",
      "dv25-acsStartContainer_cppContainer_2017-07-10_17.12.59.636_STRIPPED\r\n",
      "dv25-acsStartContainer_cppContainer_2017-07-10_19.30.47.674_STRIPPED\r\n",
      "dv25-acsStartContainer_cppContainer_2017-07-10_20.43.06.773_STRIPPED\r\n",
      "dv25-acsStartContainer_cppContainer_2017-07-10_20.56.06.754_STRIPPED\r\n",
      "dv25-acsStartContainer_cppContainer_2017-07-11_19.55.26.410_STRIPPED\r\n",
      "dv25-acsStartContainer_cppContainer_2017-07-11_20.41.40.861_STRIPPED\r\n",
      "dv25-acsStartContainer_cppContainer_2017-07-11_20.55.42.275_STRIPPED\r\n",
      "dv25-acsStartContainer_cppContainer_2017-07-12_00.14.04.823_STRIPPED\r\n",
      "dv25-acsStartContainer_cppContainer_2017-07-12_00.40.12.586_STRIPPED\r\n"
     ]
    }
   ],
   "source": [
    "!ls ../data/interim/ | tail"
   ]
  },
  {
   "cell_type": "markdown",
   "metadata": {},
   "source": [
    "# Statistics on pairs"
   ]
  },
  {
   "cell_type": "code",
   "execution_count": 49,
   "metadata": {},
   "outputs": [],
   "source": [
    "from src import *\n",
    "from src.models.AlmaClasses import *\n",
    "\n",
    "db = DelaysFileDB( caseName=\"CaseAntennaObserving\", path= '../' + config.FILEPATH_DB+\"/delays\")  "
   ]
  },
  {
   "cell_type": "code",
   "execution_count": 50,
   "metadata": {},
   "outputs": [
    {
     "data": {
      "text/plain": [
       "'CaseAntennaObserving'"
      ]
     },
     "execution_count": 50,
     "metadata": {},
     "output_type": "execute_result"
    }
   ],
   "source": [
    "db.caseName"
   ]
  },
  {
   "cell_type": "code",
   "execution_count": 51,
   "metadata": {},
   "outputs": [],
   "source": [
    "#db.instances_per_pair()[:5]"
   ]
  },
  {
   "cell_type": "code",
   "execution_count": 52,
   "metadata": {},
   "outputs": [
    {
     "data": {
      "text/plain": [
       "119"
      ]
     },
     "execution_count": 52,
     "metadata": {},
     "output_type": "execute_result"
    }
   ],
   "source": [
    "len(db.unique_colors())"
   ]
  },
  {
   "cell_type": "code",
   "execution_count": 53,
   "metadata": {},
   "outputs": [
    {
     "data": {
      "text/plain": [
       "3870"
      ]
     },
     "execution_count": 53,
     "metadata": {},
     "output_type": "execute_result"
    }
   ],
   "source": [
    "db.total_pairs()"
   ]
  },
  {
   "cell_type": "code",
   "execution_count": 54,
   "metadata": {},
   "outputs": [
    {
     "data": {
      "text/plain": [
       "311"
      ]
     },
     "execution_count": 54,
     "metadata": {},
     "output_type": "execute_result"
    }
   ],
   "source": [
    "some_pair, value = db.instances_per_pair()[10]\n",
    "db.delays_per_pair()[some_pair]"
   ]
  },
  {
   "cell_type": "code",
   "execution_count": 55,
   "metadata": {},
   "outputs": [
    {
     "data": {
      "text/plain": [
       "325"
      ]
     },
     "execution_count": 55,
     "metadata": {},
     "output_type": "execute_result"
    }
   ],
   "source": [
    "db.total_cases()"
   ]
  },
  {
   "cell_type": "markdown",
   "metadata": {},
   "source": [
    "## CaseRadioSetup"
   ]
  },
  {
   "cell_type": "code",
   "execution_count": 56,
   "metadata": {},
   "outputs": [],
   "source": [
    "db = DelaysFileDB( caseName=\"CaseRadioSetup\", path= '../' + config.FILEPATH_DB+\"/delays\")  "
   ]
  },
  {
   "cell_type": "code",
   "execution_count": 57,
   "metadata": {},
   "outputs": [
    {
     "data": {
      "text/plain": [
       "9"
      ]
     },
     "execution_count": 57,
     "metadata": {},
     "output_type": "execute_result"
    }
   ],
   "source": [
    "len(db.unique_colors())"
   ]
  },
  {
   "cell_type": "code",
   "execution_count": 58,
   "metadata": {},
   "outputs": [
    {
     "data": {
      "text/plain": [
       "18"
      ]
     },
     "execution_count": 58,
     "metadata": {},
     "output_type": "execute_result"
    }
   ],
   "source": [
    "db.total_pairs()"
   ]
  },
  {
   "cell_type": "code",
   "execution_count": 59,
   "metadata": {},
   "outputs": [
    {
     "data": {
      "text/plain": [
       "531"
      ]
     },
     "execution_count": 59,
     "metadata": {},
     "output_type": "execute_result"
    }
   ],
   "source": [
    "db.total_cases()"
   ]
  },
  {
   "cell_type": "markdown",
   "metadata": {},
   "source": [
    "## CaseAntennaInArray"
   ]
  },
  {
   "cell_type": "code",
   "execution_count": 60,
   "metadata": {},
   "outputs": [],
   "source": [
    "db = DelaysFileDB( caseName=\"CaseAntennaInArray\", path= '../' + config.FILEPATH_DB+\"/delays\")  "
   ]
  },
  {
   "cell_type": "code",
   "execution_count": 61,
   "metadata": {},
   "outputs": [
    {
     "data": {
      "text/plain": [
       "228"
      ]
     },
     "execution_count": 61,
     "metadata": {},
     "output_type": "execute_result"
    }
   ],
   "source": [
    "len(db.unique_colors())"
   ]
  },
  {
   "cell_type": "code",
   "execution_count": 62,
   "metadata": {},
   "outputs": [
    {
     "data": {
      "text/plain": [
       "12067"
      ]
     },
     "execution_count": 62,
     "metadata": {},
     "output_type": "execute_result"
    }
   ],
   "source": [
    "db.total_pairs()"
   ]
  },
  {
   "cell_type": "code",
   "execution_count": 63,
   "metadata": {},
   "outputs": [
    {
     "data": {
      "text/plain": [
       "156"
      ]
     },
     "execution_count": 63,
     "metadata": {},
     "output_type": "execute_result"
    }
   ],
   "source": [
    "db.total_cases()"
   ]
  },
  {
   "cell_type": "code",
   "execution_count": null,
   "metadata": {},
   "outputs": [],
   "source": []
  }
 ],
 "metadata": {
  "kernelspec": {
   "display_name": "Python 2",
   "language": "python",
   "name": "python2"
  },
  "language_info": {
   "codemirror_mode": {
    "name": "ipython",
    "version": 2
   },
   "file_extension": ".py",
   "mimetype": "text/x-python",
   "name": "python",
   "nbconvert_exporter": "python",
   "pygments_lexer": "ipython2",
   "version": "2.7.15"
  }
 },
 "nbformat": 4,
 "nbformat_minor": 2
}
