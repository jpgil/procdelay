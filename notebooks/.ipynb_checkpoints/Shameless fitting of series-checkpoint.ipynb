{
 "cells": [
  {
   "cell_type": "code",
   "execution_count": 9,
   "metadata": {},
   "outputs": [
    {
     "data": {
      "application/javascript": [
       "IPython.OutputArea.prototype._should_scroll = function(lines) {\n",
       "    return false;\n",
       "}"
      ],
      "text/plain": [
       "<IPython.core.display.Javascript object>"
      ]
     },
     "metadata": {},
     "output_type": "display_data"
    }
   ],
   "source": [
    "%%javascript\n",
    "IPython.OutputArea.prototype._should_scroll = function(lines) {\n",
    "    return false;\n",
    "}"
   ]
  },
  {
   "cell_type": "code",
   "execution_count": 10,
   "metadata": {},
   "outputs": [],
   "source": [
    "from src import *\n",
    "from src.models.AlmaClasses import *\n",
    "palette = PaletteFileDB(filename='../data/processed/colors-almaAntenna.pkl', colorFunction=paintedForAlmaAntennas )\n",
    "colors=palette.getColors()\n",
    "db = DelaysFileDB( caseName=\"CaseAntennaObserving\", path= '../' + config.FILEPATH_DB+\"/delays\") \n",
    "\n",
    "%matplotlib inline\n",
    "from pandas import Series\n",
    "\n",
    "from matplotlib import pyplot\n",
    "import matplotlib.pyplot as plt\n",
    "\n",
    "import numpy as np\n",
    "import scipy.stats\n",
    "import math\n",
    "import random\n",
    "\n",
    "pyplot.rcParams[\"figure.figsize\"] = (22,6)"
   ]
  },
  {
   "cell_type": "code",
   "execution_count": 11,
   "metadata": {},
   "outputs": [],
   "source": [
    "# Function to remove possible outliers, up to sigma = 3\n",
    "def remove_outliers(dataset, sigma=3):\n",
    "    mean = np.mean(dataset, axis=0)\n",
    "    sd = np.std(dataset, axis=0)\n",
    "    return [ x for x in dataset if (x >= mean - 3.0 * sd) and (x <= mean + 3.0 * sd) ]"
   ]
  },
  {
   "cell_type": "code",
   "execution_count": 15,
   "metadata": {},
   "outputs": [],
   "source": [
    "# Supress some warnings...\n",
    "def warn(*args, **kwargs):\n",
    "    pass\n",
    "import warnings\n",
    "warnings.warn = warn\n",
    "import scipy.stats\n",
    "\n",
    "# list of all available distributions\n",
    "cdfs = {\n",
    "    \"alpha\": {\"p\":[], \"D\": []},           #Alpha\n",
    "    \"anglit\": {\"p\":[], \"D\": []},          #Anglit\n",
    "    \"arcsine\": {\"p\":[], \"D\": []},         #Arcsine\n",
    "    \"beta\": {\"p\":[], \"D\": []},            #Beta\n",
    "    \"betaprime\": {\"p\":[], \"D\": []},       #Beta Prime\n",
    "    \"bradford\": {\"p\":[], \"D\": []},        #Bradford\n",
    "    \"burr\": {\"p\":[], \"D\": []},            #Burr\n",
    "    \"cauchy\": {\"p\":[], \"D\": []},          #Cauchy\n",
    "    \"chi\": {\"p\":[], \"D\": []},             #Chi\n",
    "    \"chi2\": {\"p\":[], \"D\": []},            #Chi-squared\n",
    "    \"cosine\": {\"p\":[], \"D\": []},          #Cosine\n",
    "    \"dgamma\": {\"p\":[], \"D\": []},          #Double Gamma\n",
    "    \"dweibull\": {\"p\":[], \"D\": []},        #Double Weibull\n",
    "    \"erlang\": {\"p\":[], \"D\": []},          #Erlang\n",
    "    \"expon\": {\"p\":[], \"D\": []},           #Exponential\n",
    "    \"exponweib\": {\"p\":[], \"D\": []},       #Exponentiated Weibull\n",
    "    \"exponpow\": {\"p\":[], \"D\": []},        #Exponential Power\n",
    "    \"f\": {\"p\":[], \"D\": []},               #F (Snecdor F)\n",
    "    \"fatiguelife\": {\"p\":[], \"D\": []},     #Fatigue Life (Birnbaum-Sanders)\n",
    "    \"fisk\": {\"p\":[], \"D\": []},            #Fisk\n",
    "    \"foldcauchy\": {\"p\":[], \"D\": []},      #Folded Cauchy\n",
    "    \"foldnorm\": {\"p\":[], \"D\": []},        #Folded Normal\n",
    "    \"frechet_r\": {\"p\":[], \"D\": []},       #Frechet Right Sided, Extreme Value Type II\n",
    "    \"frechet_l\": {\"p\":[], \"D\": []},       #Frechet Left Sided, Weibull_max\n",
    "    \"gamma\": {\"p\":[], \"D\": []},           #Gamma\n",
    "    \"gausshyper\": {\"p\":[], \"D\": []},      #Gauss Hypergeometric\n",
    "    \"genexpon\": {\"p\":[], \"D\": []},        #Generalized Exponential\n",
    "    \"genextreme\": {\"p\":[], \"D\": []},      #Generalized Extreme Value\n",
    "    \"gengamma\": {\"p\":[], \"D\": []},        #Generalized gamma\n",
    "    \"genhalflogistic\": {\"p\":[], \"D\": []}, #Generalized Half Logistic\n",
    "    \"genlogistic\": {\"p\":[], \"D\": []},     #Generalized Logistic\n",
    "    \"genpareto\": {\"p\":[], \"D\": []},       #Generalized Pareto\n",
    "    \"gilbrat\": {\"p\":[], \"D\": []},         #Gilbrat\n",
    "    \"gompertz\": {\"p\":[], \"D\": []},        #Gompertz (Truncated Gumbel)\n",
    "    \"gumbel_l\": {\"p\":[], \"D\": []},        #Left Sided Gumbel, etc.\n",
    "    \"gumbel_r\": {\"p\":[], \"D\": []},        #Right Sided Gumbel\n",
    "    \"halfcauchy\": {\"p\":[], \"D\": []},      #Half Cauchy\n",
    "    \"halflogistic\": {\"p\":[], \"D\": []},    #Half Logistic\n",
    "    \"halfnorm\": {\"p\":[], \"D\": []},        #Half Normal\n",
    "    \"hypsecant\": {\"p\":[], \"D\": []},       #Hyperbolic Secant\n",
    "    \"invgamma\": {\"p\":[], \"D\": []},        #Inverse Gamma\n",
    "    \"invgauss\": {\"p\":[], \"D\": []},        #Inverse Normal\n",
    "    \"invweibull\": {\"p\":[], \"D\": []},      #Inverse Weibull\n",
    "    \"johnsonsb\": {\"p\":[], \"D\": []},       #Johnson SB\n",
    "    \"johnsonsu\": {\"p\":[], \"D\": []},       #Johnson SU\n",
    "    \"laplace\": {\"p\":[], \"D\": []},         #Laplace\n",
    "    \"logistic\": {\"p\":[], \"D\": []},        #Logistic\n",
    "    \"loggamma\": {\"p\":[], \"D\": []},        #Log-Gamma\n",
    "    #\"loglaplace\": {\"p\":[], \"D\": []},      #Log-Laplace (Log Double Exponential)\n",
    "    \"lognorm\": {\"p\":[], \"D\": []},         #Log-Normal\n",
    "    \"lomax\": {\"p\":[], \"D\": []},           #Lomax (Pareto of the second kind)\n",
    "    \"maxwell\": {\"p\":[], \"D\": []},         #Maxwell\n",
    "    \"mielke\": {\"p\":[], \"D\": []},          #Mielke's Beta-Kappa\n",
    "    \"nakagami\": {\"p\":[], \"D\": []},        #Nakagami\n",
    "    \"ncx2\": {\"p\":[], \"D\": []},            #Non-central chi-squared\n",
    "    \"ncf\": {\"p\":[], \"D\": []},             #Non-central F\n",
    "    \"nct\": {\"p\":[], \"D\": []},             #Non-central Student's T\n",
    "    \"norm\": {\"p\":[], \"D\": []},            #Normal (Gaussian)\n",
    "    \"pareto\": {\"p\":[], \"D\": []},          #Pareto\n",
    "    \"pearson3\": {\"p\":[], \"D\": []},        #Pearson type III\n",
    "    \"powerlaw\": {\"p\":[], \"D\": []},        #Power-function\n",
    "    \"powerlognorm\": {\"p\":[], \"D\": []},    #Power log normal\n",
    "    \"powernorm\": {\"p\":[], \"D\": []},       #Power normal\n",
    "    \"rdist\": {\"p\":[], \"D\": []},           #R distribution\n",
    "    \"reciprocal\": {\"p\":[], \"D\": []},      #Reciprocal\n",
    "    \"rayleigh\": {\"p\":[], \"D\": []},        #Rayleigh\n",
    "    \"rice\": {\"p\":[], \"D\": []},            #Rice\n",
    "    \"recipinvgauss\": {\"p\":[], \"D\": []},   #Reciprocal Inverse Gaussian\n",
    "    \"semicircular\": {\"p\":[], \"D\": []},    #Semicircular\n",
    "    \"t\": {\"p\":[], \"D\": []},               #Student's T\n",
    "    \"triang\": {\"p\":[], \"D\": []},          #Triangular\n",
    "    \"truncexpon\": {\"p\":[], \"D\": []},      #Truncated Exponential\n",
    "    \"truncnorm\": {\"p\":[], \"D\": []},       #Truncated Normal\n",
    "    \"tukeylambda\": {\"p\":[], \"D\": []},     #Tukey-Lambda\n",
    "    \"uniform\": {\"p\":[], \"D\": []},         #Uniform\n",
    "    \"vonmises\": {\"p\":[], \"D\": []},        #Von-Mises (Circular)\n",
    "    \"wald\": {\"p\":[], \"D\": []},            #Wald\n",
    "    \"weibull_min\": {\"p\":[], \"D\": []},     #Minimum Weibull (see Frechet)\n",
    "    \"weibull_max\": {\"p\":[], \"D\": []},     #Maximum Weibull (see Frechet)\n",
    "    \"wrapcauchy\": {\"p\":[], \"D\": []},      #Wrapped Cauchy\n",
    "    \"ksone\": {\"p\":[], \"D\": []},           #Kolmogorov-Smirnov one-sided (no stats)\n",
    "    \"kstwobign\": {\"p\":[], \"D\": []}}       #Kolmogorov-Smirnov two-sided test for Large N\n",
    "\n",
    "\n",
    "def check(data, fct, verbose=False):\n",
    "    #fit our data set against every probability distribution\n",
    "    parameters = eval(\"scipy.stats.\"+fct+\".fit(data)\");\n",
    "    #Applying the Kolmogorov-Smirnof two sided test\n",
    "    D, p = scipy.stats.kstest(data, fct, args=parameters);\n",
    "\n",
    "    if math.isnan(p): p=0\n",
    "    if math.isnan(D): D=0\n",
    "\n",
    "    if verbose:\n",
    "        print(fct.ljust(16) + \"p: \" + str(p).ljust(25) + \"D: \" +str(D))\n",
    "\n",
    "    return (fct, p, D)\n",
    "\n",
    "def plot(fcts, data):\n",
    "    # plot data\n",
    "    plt.hist(data, normed=True, bins=max(10, len(data)/10))\n",
    "\n",
    "    # plot fitted probability\n",
    "    for fct in fcts:\n",
    "        params = eval(\"scipy.stats.\"+fct+\".fit(data)\")\n",
    "        f = eval(\"scipy.stats.\"+fct+\".freeze\"+str(params))\n",
    "        x = np.linspace(f.ppf(0.001), f.ppf(0.999), 500)\n",
    "        plt.plot(x, f.pdf(x), lw=3, label=fct)\n",
    "    plt.legend(loc='best', frameon=False)\n",
    "    plt.title(\"Top \"+str(len(fcts))+\" Results\")\n",
    "    plt.show()\n",
    "\n",
    "def plotDensities(best):\n",
    "    plt.ion()\n",
    "    plt.clf()\n",
    "    # plot fitted probability\n",
    "    for i in range(len(best)-1, -1, -1):\n",
    "        fct, values = best[i]\n",
    "        plt.hist(values[\"p\"], normed=True, bins=max(10, len(values[\"p\"])/10), label=str(i+1)+\". \"+fct, alpha=0.5)\n",
    "    plt.legend(loc='best', frameon=False)\n",
    "    plt.title(\"Top Results\")\n",
    "    plt.show()\n",
    "    plt.draw()\n",
    "\n",
    "def compare_everything( rawdata, iterations=10 ):\n",
    "    cds = cdfs.copy()\n",
    "    for fct in cds.keys():\n",
    "        for i in range(iterations):\n",
    "            DATA = [ x for x in rawdata if random.random()>=0.5 ]\n",
    "            key, p, D = check(DATA, fct, False)\n",
    "            cds[key][\"p\"].append(p)\n",
    "            cds[key][\"D\"].append(D)\n",
    "\n",
    "    best = sorted(cds.items(), key=lambda elem : scipy.median(elem[1][\"p\"]), reverse=True)\n",
    "    return best\n",
    "\n",
    "def show_fitting(best, rawdata):\n",
    "    print( \"-------------------------------------------------------------------\" )\n",
    "    print( \"Top 10 after %d iteration(s)\" % ( 1 ) )\n",
    "    print( \"-------------------------------------------------------------------\" )\n",
    "\n",
    "    for t in range(10):\n",
    "        fct, values = best[t]\n",
    "        print str(t+1).ljust(4), fct.ljust(16), \"\\tp: %.5f\" % scipy.median(values[\"p\"]), \"\\tD: %.5f\" %  scipy.median(values[\"D\"]), \n",
    "        if len(values[\"p\"]) > 1:\n",
    "            print \"\\tvar(p): %.5f\" % scipy.var(values[\"p\"]), \"\\tvar(D): %.5f\" % scipy.var(values[\"D\"])\n",
    "\n",
    "    plot([b[0] for b in best[:3]], rawdata)\n",
    "    plotDensities(best[:3])\n",
    "    "
   ]
  },
  {
   "cell_type": "code",
   "execution_count": 13,
   "metadata": {},
   "outputs": [
    {
     "name": "stderr",
     "output_type": "stream",
     "text": [
      "/home/juanpablo/anaconda2/lib/python2.7/site-packages/scipy/stats/_continuous_distns.py:312: RuntimeWarning: divide by zero encountered in true_divide\n",
      "  return 1.0/np.pi/np.sqrt(x*(1-x))\n",
      "/home/juanpablo/anaconda2/lib/python2.7/site-packages/scipy/stats/_continuous_distns.py:589: RuntimeWarning: divide by zero encountered in true_divide\n",
      "  a/(b-1.0),\n",
      "/home/juanpablo/anaconda2/lib/python2.7/site-packages/scipy/stats/_continuous_distns.py:593: RuntimeWarning: divide by zero encountered in true_divide\n",
      "  a*(a+1.0)/((b-2.0)*(b-1.0)),\n",
      "/home/juanpablo/anaconda2/lib/python2.7/site-packages/scipy/stats/_distn_infrastructure.py:1037: RuntimeWarning: invalid value encountered in subtract\n",
      "  mu2 = mu2p - mu * mu\n",
      "/home/juanpablo/anaconda2/lib/python2.7/site-packages/scipy/stats/_distn_infrastructure.py:2305: RuntimeWarning: invalid value encountered in double_scalars\n",
      "  Lhat = muhat - Shat*mu\n",
      "/home/juanpablo/anaconda2/lib/python2.7/site-packages/scipy/stats/_continuous_distns.py:3080: RuntimeWarning: divide by zero encountered in power\n",
      "  return 1.0/Cinv * x**(a-1.0) * (1.0-x)**(b-1.0) / (1.0+z*x)**c\n",
      "/home/juanpablo/anaconda2/lib/python2.7/site-packages/scipy/stats/_distn_infrastructure.py:1615: RuntimeWarning: divide by zero encountered in log\n",
      "  return log(self._pdf(x, *args))\n",
      "/home/juanpablo/anaconda2/lib/python2.7/site-packages/scipy/stats/_continuous_distns.py:5883: RuntimeWarning: divide by zero encountered in power\n",
      "  Px = Fx**(lam-1.0) + (np.asarray(1-Fx))**(lam-1.0)\n",
      "/home/juanpablo/anaconda2/lib/python2.7/site-packages/scipy/stats/_continuous_distns.py:44: RuntimeWarning: floating point number truncated to an integer\n",
      "  return 1.0 - sc.smirnov(n, x)\n",
      "/home/juanpablo/anaconda2/lib/python2.7/site-packages/scipy/stats/_continuous_distns.py:1380: RuntimeWarning: invalid value encountered in add\n",
      "  negxc + sc.xlogy(c - 1.0, x))\n",
      "/home/juanpablo/anaconda2/lib/python2.7/site-packages/scipy/stats/_continuous_distns.py:5823: RuntimeWarning: divide by zero encountered in log\n",
      "  self._logdelta = np.log(self._delta)\n",
      "/home/juanpablo/anaconda2/lib/python2.7/site-packages/scipy/stats/_continuous_distns.py:5823: RuntimeWarning: invalid value encountered in log\n",
      "  self._logdelta = np.log(self._delta)\n",
      "/home/juanpablo/anaconda2/lib/python2.7/site-packages/scipy/stats/_continuous_distns.py:4768: RuntimeWarning: invalid value encountered in multiply\n",
      "  Px *= trm1+trm2\n",
      "/home/juanpablo/anaconda2/lib/python2.7/site-packages/scipy/stats/_continuous_distns.py:4764: RuntimeWarning: overflow encountered in multiply\n",
      "  trm1 = np.sqrt(2)*nc*x*sc.hyp1f1(n/2+1, 1.5, valF)\n",
      "/home/juanpablo/anaconda2/lib/python2.7/site-packages/scipy/stats/_distn_infrastructure.py:1615: RuntimeWarning: invalid value encountered in log\n",
      "  return log(self._pdf(x, *args))\n",
      "/home/juanpablo/anaconda2/lib/python2.7/site-packages/scipy/stats/_continuous_distns.py:4502: RuntimeWarning: divide by zero encountered in power\n",
      "  return 2*nu**nu/sc.gamma(nu)*(x**(2*nu-1.0))*np.exp(-nu*x*x)\n",
      "/home/juanpablo/anaconda2/lib/python2.7/site-packages/scipy/stats/_continuous_distns.py:1591: RuntimeWarning: divide by zero encountered in log\n",
      "  lPx = m/2 * np.log(m) + n/2 * np.log(n) + (n/2 - 1) * np.log(x)\n",
      "/home/juanpablo/anaconda2/lib/python2.7/site-packages/scipy/stats/_continuous_distns.py:5250: RuntimeWarning: divide by zero encountered in power\n",
      "  return np.power((1.0 - x**2), c / 2.0 - 1) / sc.beta(0.5, c / 2.0)\n",
      "/home/juanpablo/anaconda2/lib/python2.7/site-packages/scipy/stats/_continuous_distns.py:4064: RuntimeWarning: overflow encountered in power\n",
      "  return k*x**(k-1.0) / (1.0+x**s)**(1.0+k*1.0/s)\n",
      "/home/juanpablo/anaconda2/lib/python2.7/site-packages/scipy/stats/_continuous_distns.py:4064: RuntimeWarning: invalid value encountered in true_divide\n",
      "  return k*x**(k-1.0) / (1.0+x**s)**(1.0+k*1.0/s)\n",
      "/home/juanpablo/anaconda2/lib/python2.7/site-packages/scipy/stats/_continuous_distns.py:4064: RuntimeWarning: overflow encountered in multiply\n",
      "  return k*x**(k-1.0) / (1.0+x**s)**(1.0+k*1.0/s)\n",
      "/home/juanpablo/anaconda2/lib/python2.7/site-packages/scipy/stats/_continuous_distns.py:2159: RuntimeWarning: divide by zero encountered in true_divide\n",
      "  val = val + cnk * (-1) ** ki / (1.0 - c * ki)\n",
      "/home/juanpablo/anaconda2/lib/python2.7/site-packages/scipy/stats/_continuous_distns.py:3421: RuntimeWarning: divide by zero encountered in log\n",
      "  trm = _norm_pdf(a + b * np.log(x + np.sqrt(x2+1)))\n",
      "/home/juanpablo/anaconda2/lib/python2.7/site-packages/scipy/stats/_continuous_distns.py:437: RuntimeWarning: invalid value encountered in sqrt\n",
      "  sk = 2*(b-a)*np.sqrt(a + b + 1) / (a + b + 2) / np.sqrt(a*b)\n",
      "/home/juanpablo/anaconda2/lib/python2.7/site-packages/scipy/optimize/optimize.py:563: RuntimeWarning: invalid value encountered in subtract\n",
      "  numpy.max(numpy.abs(fsim[0] - fsim[1:])) <= fatol):\n"
     ]
    }
   ],
   "source": [
    "# (a,b) = (464, 469) # NADA!!\n",
    "# (a,b) = (464, 484)  # T-students, or johnsonsu\n",
    "# (a,b) = (465, 476)  # johnsonsu\n",
    "\n",
    "rawdata_464_469 = remove_outliers( db.getDelays(464, 469) )\n",
    "best_464_469 = compare_everything( rawdata_464_469 )"
   ]
  },
  {
   "cell_type": "code",
   "execution_count": 14,
   "metadata": {},
   "outputs": [
    {
     "name": "stdout",
     "output_type": "stream",
     "text": [
      "-------------------------------------------------------------------\n",
      "Top 10 after 1 iteration(s)\n",
      "-------------------------------------------------------------------\n",
      "1    invgauss         \tp: 0.00000 \tD: 0.20287 \tvar(p): 0.00000 \tvar(D): 0.00012\n",
      "2    ncf              \tp: 0.00000 \tD: 0.20972 \tvar(p): 0.00000 \tvar(D): 0.00462\n",
      "3    invgamma         \tp: 0.00000 \tD: 0.20919 \tvar(p): 0.00000 \tvar(D): 0.00013\n",
      "4    betaprime        \tp: 0.00000 \tD: 0.21729 \tvar(p): 0.00000 \tvar(D): 0.00083\n",
      "5    f                \tp: 0.00000 \tD: 0.21900 \tvar(p): 0.00000 \tvar(D): 0.00268\n",
      "6    invweibull       \tp: 0.00000 \tD: 0.21702 \tvar(p): 0.00000 \tvar(D): 0.00016\n",
      "7    genextreme       \tp: 0.00000 \tD: 0.22230 \tvar(p): 0.00000 \tvar(D): 0.00085\n",
      "8    genpareto        \tp: 0.00000 \tD: 0.22125 \tvar(p): 0.00000 \tvar(D): 0.00029\n",
      "9    halfcauchy       \tp: 0.00000 \tD: 0.22662 \tvar(p): 0.00000 \tvar(D): 0.00032\n",
      "10   burr             \tp: 0.00000 \tD: 0.23221 \tvar(p): 0.00000 \tvar(D): 0.00609\n"
     ]
    },
    {
     "data": {
      "image/png": "[encoded data removed]",
      "text/plain": [
       "<Figure size 1584x432 with 1 Axes>"
      ]
     },
     "metadata": {},
     "output_type": "display_data"
    },
    {
     "data": {
      "image/png": "[encoded data removed]",
      "text/plain": [
       "<Figure size 1584x432 with 1 Axes>"
      ]
     },
     "metadata": {},
     "output_type": "display_data"
    },
    {
     "data": {
      "text/plain": [
       "<Figure size 1584x432 with 0 Axes>"
      ]
     },
     "metadata": {},
     "output_type": "display_data"
    }
   ],
   "source": [
    "show_fitting(best_464_469, rawdata_464_469)"
   ]
  },
  {
   "cell_type": "code",
   "execution_count": null,
   "metadata": {},
   "outputs": [],
   "source": [
    "rawdata_464_484 = remove_outliers( db.getDelays(464, 484) )\n",
    "best_464_484 = compare_everything( rawdata_464_484 )"
   ]
  },
  {
   "cell_type": "code",
   "execution_count": null,
   "metadata": {},
   "outputs": [],
   "source": [
    "show_fitting(best_464_484, rawdata_464_484)"
   ]
  }
 ],
 "metadata": {
  "kernelspec": {
   "display_name": "Python 2",
   "language": "python",
   "name": "python2"
  },
  "language_info": {
   "codemirror_mode": {
    "name": "ipython",
    "version": 2
   },
   "file_extension": ".py",
   "mimetype": "text/x-python",
   "name": "python",
   "nbconvert_exporter": "python",
   "pygments_lexer": "ipython2",
   "version": "2.7.15"
  }
 },
 "nbformat": 4,
 "nbformat_minor": 2
}
