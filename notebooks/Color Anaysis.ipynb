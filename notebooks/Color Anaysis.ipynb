{
 "cells": [
  {
   "cell_type": "code",
   "execution_count": 82,
   "metadata": {
    "collapsed": true
   },
   "outputs": [],
   "source": [
    "from src.models.AlmaClasses import paintedForAlmaAntennas"
   ]
  },
  {
   "cell_type": "markdown",
   "metadata": {},
   "source": [
    "# How to color\n",
    "The colors above were generated using paintedForAlmaAntennas function, which remove numbers but keeps some specific equipment that must be distinguished uniquely. "
   ]
  },
  {
   "cell_type": "code",
   "execution_count": 83,
   "metadata": {},
   "outputs": [
    {
     "data": {
      "text/plain": [
       "'Example'"
      ]
     },
     "execution_count": 83,
     "metadata": {},
     "output_type": "execute_result"
    }
   ],
   "source": [
    "paintedForAlmaAntennas(\"Example\")"
   ]
  },
  {
   "cell_type": "code",
   "execution_count": 84,
   "metadata": {},
   "outputs": [
    {
     "data": {
      "text/plain": [
       "'Example with ${N} number'"
      ]
     },
     "execution_count": 84,
     "metadata": {},
     "output_type": "execute_result"
    }
   ],
   "source": [
    "paintedForAlmaAntennas(\"Example with 1 number\")"
   ]
  },
  {
   "cell_type": "code",
   "execution_count": 85,
   "metadata": {},
   "outputs": [
    {
     "data": {
      "text/plain": [
       "'Specific ${N} antennas: ${ANT} and ${ANT}'"
      ]
     },
     "execution_count": 85,
     "metadata": {},
     "output_type": "execute_result"
    }
   ],
   "source": [
    "paintedForAlmaAntennas(\"Specific 2 antennas: DV01 and CM12\")"
   ]
  },
  {
   "cell_type": "code",
   "execution_count": 86,
   "metadata": {
    "scrolled": true
   },
   "outputs": [
    {
     "data": {
      "text/plain": [
       "'Specific hardware: IFProc_A and IFProc_B. Compare with others like DTX${N}, DTX${N}, and so on.'"
      ]
     },
     "execution_count": 86,
     "metadata": {},
     "output_type": "execute_result"
    }
   ],
   "source": [
    "paintedForAlmaAntennas(\"Specific hardware: IFProc0 and IFProc1. Compare with others like DTX0, DTX1, and so on.\")"
   ]
  },
  {
   "cell_type": "markdown",
   "metadata": {},
   "source": [
    "# Discovered Palette\n",
    "Some statistic and counting over colors. The palette has a dictionary that is persistent on executions (it mixes all the analysis in all files), but it does not count colors or instances per case. For that, you need to use a special class called CaseStats."
   ]
  },
  {
   "cell_type": "code",
   "execution_count": 87,
   "metadata": {
    "collapsed": true
   },
   "outputs": [],
   "source": [
    "from src import *\n",
    "from src.models.AlmaClasses import *\n",
    "palette = PaletteFileDB(filename='../data/processed/colors-almaAntenna.pkl', colorFunction=paintedForAlmaAntennas )"
   ]
  },
  {
   "cell_type": "code",
   "execution_count": 88,
   "metadata": {
    "collapsed": true
   },
   "outputs": [],
   "source": [
    "colors=palette.getColors()"
   ]
  },
  {
   "cell_type": "code",
   "execution_count": 89,
   "metadata": {},
   "outputs": [
    {
     "data": {
      "text/plain": [
       "1626"
      ]
     },
     "execution_count": 89,
     "metadata": {},
     "output_type": "execute_result"
    }
   ],
   "source": [
    "len(colors)"
   ]
  },
  {
   "cell_type": "markdown",
   "metadata": {},
   "source": [
    "The is a small sample of the discovered colors:"
   ]
  },
  {
   "cell_type": "code",
   "execution_count": 90,
   "metadata": {},
   "outputs": [
    {
     "name": "stdout",
     "output_type": "stream",
     "text": [
      "Color 500 : [maci::LibraryManager - maci::LibraryManager::unload] Unloaded '${PATH}/libAntLOController.so'.\n",
      "Color 501 : [CONTROL/${ANT}/cppContainer - maci::ContainerImpl::deactivate_component] Component 'CONTROL/${ANT}/\n",
      "Color 502 : [maci::LibraryManager - maci::LibraryManager::load] Request to load 'TotalPowerImpl'.\n",
      "Color 503 : [maci::LibraryManager - maci::LibraryManager::load] Full path '${PATH}/libTotalPowerImpl.so'\n",
      "Color 504 : [maci::LibraryManager - maci::LibraryManager::load] Loaded '${PATH}/libTotalPowerImpl.so'.\n",
      "Color 505 : [CONTROL/${ANT}/cppContainer-GL - ] Switched state of component CONTROL/${ANT}/TOTALPOWER: NEW -> IN\n",
      "Color 506 : [CONTROL/${ANT}/cppContainer-GL - ] Switched state of component CONTROL/${ANT}/TOTALPOWER: INITIALIZ\n",
      "Color 507 : [CONTROL/${ANT}/cppContainer-GL - ] Switched state of component CONTROL/${ANT}/TOTALPOWER: INITIALIZ\n",
      "Color 508 : [CONTROL/${ANT}/cppContainer - maci::ContainerImpl::activate_component] Component 'CONTROL/${ANT}/TO\n",
      "Color 509 : [CONTROL/${ANT}/TOTALPOWER - ] ContainerServices::getComponentNonSticky(CONTROL/${ANT})\n",
      "Color 510 : [CONTROL/${ANT}/TOTALPOWER - ] ContainerServices::getComponentNonSticky(CONTROL/${ANT}/IFProc_A)\n",
      "Color 511 : [CONTROL/${ANT}/TOTALPOWER - ] ContainerServices::getComponentNonSticky(CONTROL/${ANT}/IFProc_B)\n",
      "Color 512 : [CONTROL/${ANT}/IFProc_A - beginDataAcquisition] Data acquisition activated.\n",
      "Color 513 : [CONTROL/${ANT}/IFProc_B - beginDataAcquisition] Data acquisition activated.\n",
      "Color 514 : [CONTROL/${ANT}/FrontEnd/ACD - void ACDImpl::setCalibrationDeviceBandInternal(CalibrationDeviceMod::\n"
     ]
    }
   ],
   "source": [
    "for i in range(500,515):\n",
    "    print (\"Color %d : %s\" % (i, colors[i][:100]))"
   ]
  },
  {
   "cell_type": "markdown",
   "metadata": {},
   "source": [
    "Those colors were obtained in near 10 minutes over these files"
   ]
  },
  {
   "cell_type": "code",
   "execution_count": 91,
   "metadata": {},
   "outputs": [
    {
     "data": {
      "text/plain": [
       "'     334'"
      ]
     },
     "execution_count": 91,
     "metadata": {},
     "output_type": "execute_result"
    }
   ],
   "source": [
    "bash('grep \"LOG FILE\" ../data/processed/AntennaCasesCounts.txt  | wc -l')"
   ]
  },
  {
   "cell_type": "markdown",
   "metadata": {},
   "source": [
    "With total lines number "
   ]
  },
  {
   "cell_type": "code",
   "execution_count": 92,
   "metadata": {
    "scrolled": true
   },
   "outputs": [
    {
     "data": {
      "text/plain": [
       "'3628453'"
      ]
     },
     "execution_count": 92,
     "metadata": {},
     "output_type": "execute_result"
    }
   ],
   "source": [
    "bash (\"SUM=0; for num in $(grep 'LOG SIZE' ../data/processed/AntennaCasesCounts.txt  | awk '{print $3}'); do SUM=$(($SUM + $num)); done; echo $SUM\")"
   ]
  },
  {
   "cell_type": "code",
   "execution_count": 100,
   "metadata": {},
   "outputs": [
    {
     "name": "stdout",
     "output_type": "stream",
     "text": [
      "370 [CONTROL/${ANT}/cppContainer-GL - virtual std::string XmlTmcdbComponent::getConfigXml(const std::string&)] GETTING XML conf. data from TMCDB for ${N}\n",
      "368 [CONTROL/${ANT}/cppContainer-GL - virtual std::string XmlTmcdbComponent::getConfigXml(const std::string&)] Looking configuration data for S/N ${N}\n"
     ]
    }
   ],
   "source": [
    "for c in [370,368]:\n",
    "    print c, colors[c]"
   ]
  },
  {
   "cell_type": "code",
   "execution_count": null,
   "metadata": {
    "collapsed": true
   },
   "outputs": [],
   "source": []
  }
 ],
 "metadata": {
  "kernelspec": {
   "display_name": "Python 2",
   "language": "python",
   "name": "python2"
  },
  "language_info": {
   "codemirror_mode": {
    "name": "ipython",
    "version": 2
   },
   "file_extension": ".py",
   "mimetype": "text/x-python",
   "name": "python",
   "nbconvert_exporter": "python",
   "pygments_lexer": "ipython2",
   "version": "2.7.10"
  }
 },
 "nbformat": 4,
 "nbformat_minor": 2
}
