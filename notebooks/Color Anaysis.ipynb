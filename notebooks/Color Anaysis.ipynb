{
 "cells": [
  {
   "cell_type": "markdown",
   "metadata": {},
   "source": [
    "This document explains the strategy used to clusterize free text logs by looking the constant part. First, you need to import the code available at https://bitbucket.org/jpgil_cl/procdelays."
   ]
  },
  {
   "cell_type": "markdown",
   "metadata": {},
   "source": [
    "# How to color\n",
    "The colors below were generated using `paintedForAlmaAntennas` function, which remove numbers but keeps some specific equipment that must be distinguished uniquely. "
   ]
  },
  {
   "cell_type": "code",
   "execution_count": 3,
   "metadata": {},
   "outputs": [],
   "source": [
    "from src.models.AlmaClasses import paintedForAlmaAntennas"
   ]
  },
  {
   "cell_type": "code",
   "execution_count": 4,
   "metadata": {},
   "outputs": [
    {
     "data": {
      "text/plain": [
       "'Example'"
      ]
     },
     "execution_count": 4,
     "metadata": {},
     "output_type": "execute_result"
    }
   ],
   "source": [
    "paintedForAlmaAntennas(\"Example\")"
   ]
  },
  {
   "cell_type": "code",
   "execution_count": 5,
   "metadata": {},
   "outputs": [
    {
     "data": {
      "text/plain": [
       "'Example with ${N} number'"
      ]
     },
     "execution_count": 5,
     "metadata": {},
     "output_type": "execute_result"
    }
   ],
   "source": [
    "paintedForAlmaAntennas(\"Example with 1 number\")"
   ]
  },
  {
   "cell_type": "code",
   "execution_count": 6,
   "metadata": {},
   "outputs": [
    {
     "data": {
      "text/plain": [
       "'Specific ${N} antennas: ${ANT} and ${ANT}'"
      ]
     },
     "execution_count": 6,
     "metadata": {},
     "output_type": "execute_result"
    }
   ],
   "source": [
    "paintedForAlmaAntennas(\"Specific 2 antennas: DV01 and CM12\")"
   ]
  },
  {
   "cell_type": "code",
   "execution_count": 7,
   "metadata": {
    "scrolled": true
   },
   "outputs": [
    {
     "data": {
      "text/plain": [
       "'Specific hardware: IFProc_A and IFProc_B. Compare with others like DTX${N}, DTX${N}, and so on.'"
      ]
     },
     "execution_count": 7,
     "metadata": {},
     "output_type": "execute_result"
    }
   ],
   "source": [
    "paintedForAlmaAntennas(\"Specific hardware: IFProc0 and IFProc1. Compare with others like DTX0, DTX1, and so on.\")"
   ]
  },
  {
   "cell_type": "markdown",
   "metadata": {},
   "source": [
    "# Discovered Palette\n",
    "Some statistic and counting over colors. The palette has a dictionary that is persistent on executions (it mixes all the analysis in all files), but it does not count colors or instances per case. For that, you need to use a special class called CaseStats."
   ]
  },
  {
   "cell_type": "code",
   "execution_count": 8,
   "metadata": {},
   "outputs": [
    {
     "data": {
      "text/plain": [
       "1638"
      ]
     },
     "execution_count": 8,
     "metadata": {},
     "output_type": "execute_result"
    }
   ],
   "source": [
    "from src import *\n",
    "from src.models.AlmaClasses import *\n",
    "palette = PaletteFileDB(\n",
    "    filename='../data/processed/colors-almaAntenna.pkl', \n",
    "    colorFunction=paintedForAlmaAntennas )\n",
    "\n",
    "colors=palette.getColors()\n",
    "len(colors)"
   ]
  },
  {
   "cell_type": "markdown",
   "metadata": {},
   "source": [
    "To see one color you can query by index, or by the color itself"
   ]
  },
  {
   "cell_type": "code",
   "execution_count": 9,
   "metadata": {},
   "outputs": [
    {
     "data": {
      "text/plain": [
       "'[CONTROL/${ANT}/cppContainer-GL - virtual std::string XmlTmcdbComponent::getConfigXml(const std::string&)] GETTING XML conf. data from TMCDB for ${N}'"
      ]
     },
     "execution_count": 9,
     "metadata": {},
     "output_type": "execute_result"
    }
   ],
   "source": [
    "colors[370]"
   ]
  },
  {
   "cell_type": "code",
   "execution_count": 10,
   "metadata": {},
   "outputs": [
    {
     "data": {
      "text/plain": [
       "'[CONTROL/${ANT}/cppContainer-GL - virtual std::string XmlTmcdbComponent::getConfigXml(const std::string&)] Looking configuration data for S/N ${N}'"
      ]
     },
     "execution_count": 10,
     "metadata": {},
     "output_type": "execute_result"
    }
   ],
   "source": [
    "colors[368]"
   ]
  },
  {
   "cell_type": "code",
   "execution_count": 11,
   "metadata": {},
   "outputs": [
    {
     "data": {
      "text/plain": [
       "502"
      ]
     },
     "execution_count": 11,
     "metadata": {},
     "output_type": "execute_result"
    }
   ],
   "source": [
    "palette.index(\"[maci::LibraryManager - maci::LibraryManager::load] Request to load 'TotalPowerImpl'.\")"
   ]
  },
  {
   "cell_type": "markdown",
   "metadata": {},
   "source": [
    "Below is shown a subset of the colors:"
   ]
  },
  {
   "cell_type": "code",
   "execution_count": 12,
   "metadata": {
    "scrolled": true
   },
   "outputs": [
    {
     "name": "stdout",
     "output_type": "stream",
     "text": [
      "Color 521: [CONTROL/${ANT}/cppContainer - maci::ContainerImpl::deactivate_component] Component 'CONTROL/${ANT}/TOTALPOWER' deactivated.\n",
      "Color 522: [CONTROL/${ANT}/LOtwoBBpr_A - virtual void LO${N}Engine::setFrequency(double, Control::LOOffsettingMode, NetSidebandMod::NetSideband, ACS::Time)] Sett\n",
      "Color 523: [CONTROL/${ANT}/LOtwoBBpr_B - virtual void LO${N}Engine::setFrequency(double, Control::LOOffsettingMode, NetSidebandMod::NetSideband, ACS::Time)] Sett\n",
      "Color 524: [CONTROL/${ANT}/FrontEnd/LPR - setCntlOptSwitchPort] EDFA voltage set to ${N} when changing from band ${N} to ${N}\n",
      "Color 525: [CONTROL/${ANT}/FrontEnd - void FrontEndImpl::selectBandInternal(ReceiverBandMod::ReceiverBand)] Receiver band #${N} has been selected\n",
      "Color 526: [CONTROL/${ANT}/FrontEnd - void FrontEndImpl::parkStandbyBands()] Setting band ${N} park frequency to ${N}\n",
      "Color 527: [CONTROL/${ANT}/FrontEnd/WCA${N} - virtual void WCAImpl::offsetCoarseByFloog(NetSidebandMod::NetSideband, double, bool)] WCAImpl::offsetCoarseByFloog \n",
      "Color 528: [CONTROL/${ANT}/FrontEnd/WCA${N} - maximizeIFTP] (initial) coarse tune: : ${N} Initial IFTP: ${N}\n",
      "Color 529: [CONTROL/${ANT}/FrontEnd/WCA${N} - maximizeIFTP] Set coarse tune to: : ${N} High IFTP: ${N}\n",
      "Color 530: [CONTROL/${ANT}/FrontEnd/WCA${N} - maximizeIFTP] Optimal coarse tune: : ${N} Optimal IFTP: ${N}\n",
      "Color 531: [CONTROL/${ANT}/FrontEnd - void FrontEndImpl::lockFrontEndInternal(Control::FrontEnd::SubscanInformation, bool, bool)] Done Offsetting Floog\n",
      "Color 532: [CONTROL/${ANT}/FrontEnd - void FrontEndImpl::optimizeLPRVoltage(double, double, double, bool)] Modulation voltage: ${N} IFTotal Power: ${N} LPR power\n",
      "Color 533: [CONTROL/${ANT}/FrontEnd - void FrontEndImpl::lockFrontEndInternal(Control::FrontEnd::SubscanInformation, bool, bool)] WCA Locked\n",
      "Color 534: [CONTROL/${ANT}/FrontEnd - void FrontEndImpl::optimizeSinglePolInternal(ReceiverBandMod::ReceiverBand, int, float&, float&)] Converged after ${N} iter\n",
      "Color 535: [CONTROL/${ANT}/FrontEnd/IFSwitch - ] ContainerServices::getComponentNonSticky(CONTROL/${ANT}/IFProc_A)\n",
      "Color 536: [CONTROL/${ANT}/FrontEnd/IFSwitch - ] ContainerServices::getComponentNonSticky(CONTROL/${ANT}/IFProc_B)\n",
      "Color 537: [CONTROL/${ANT}/FrontEnd - void FrontEndImpl::lockFrontEndInternal(Control::FrontEnd::SubscanInformation, bool, bool)] Receiver band was already locke\n",
      "Color 538: [CONTROL/${ANT}/cppContainer-GL - void PositionStreamConsumer::processData(Control::MountStatusData)] At ${N}:${N}:${N} got the last needed data with \n",
      "Color 539: [CONTROL/${ANT}/LOtwoBBpr_A - virtual void LO${N}Engine::setFrequency(double, Control::LOOffsettingMode, NetSidebandMod::NetSideband, ACS::Time)] Sett\n",
      "Color 540: [CONTROL/${ANT}/LOtwoBBpr_B - virtual void LO${N}Engine::setFrequency(double, Control::LOOffsettingMode, NetSidebandMod::NetSideband, ACS::Time)] Sett\n",
      "Color 541: [CONTROL/${ANT}/LOtwoBBpr_C - virtual void LO${N}Engine::setFrequency(double, Control::LOOffsettingMode, NetSidebandMod::NetSideband, ACS::Time)] Sett\n",
      "Color 542: [CONTROL/${ANT}/LOtwoBBpr_D - virtual void LO${N}Engine::setFrequency(double, Control::LOOffsettingMode, NetSidebandMod::NetSideband, ACS::Time)] Sett\n",
      "Color 543: [CONTROL/${ANT}/FrontEnd/ACD - void ACDImpl::setCalibrationDeviceBandInternal(CalibrationDeviceMod::CalibrationDevice, ReceiverBandMod::ReceiverBand)]\n",
      "Color 544: [CONTROL/${ANT}/FrontEnd/ACD - void ACDImpl::setCalibrationDeviceBandInternal(CalibrationDeviceMod::CalibrationDevice, ReceiverBandMod::ReceiverBand)]\n",
      "Color 545: [CONTROL/${ANT}/MountController - virtual void Control::MountControllerImpl::abortDataCollection()] Aborting the data collection that started at ${N}:\n",
      "Color 546: Local file logger: Cache saved to '/alma/ACS${N}/acsdata/tmp/da${N}-abm/daemons_${N}${N}${N}T${N}:${N}:${N}/acs_local_log_cppContainer_${N}'.\n",
      "Color 547: [CONTROL/${ANT}/cppContainer-GL - virtual std::auto_ptr<const ControlXmlParser> ControlXmlParser::getElement(const char*) const] Exception while proce\n",
      "Color 548: [CONTROL/${ANT}/FrontEnd/ColdCart${N} - virtual void ColdCartImpl::measureSISVoltageError()] measure SIS Voltage Error : ${N} ${N} ${N} ${N}\n",
      "Color 549: [CONTROL/${ANT}/FrontEnd/ColdCart${N} - virtual void ColdCartImpl::mixerDeflux()] Timeout during the mixer deflux. Expected temperatures: (${N},${N}).\n",
      "Color 550: [CONTROL/${ANT}/cppContainer-GL - virtual uint${N}_t IFProcBase::getTimingErrorFlag(ACS::Time&)] Inactive (type=${N}, code=${N}) Detail=\"Cannot execut\n",
      "Color 551: [CONTROL/${ANT}/cppContainer-GL - ] Consumer::resume failed because already resumed for the 'CONTROL_REALTIME' channel!\n",
      "Color 552: [CONTROL/${ANT}/FrontEnd - void FrontEndImpl::powerOffBandInternal(ReceiverBandMod::ReceiverBand)] Receiver band #${N} powered off\n",
      "Color 553: [CONTROL/${ANT}/cppContainer-GL - void Control::DelayCalculator::getInterpolator(ACS::Time)] Illegal Parameter Error (type=${N}, code=${N}) Detail=\"Ca\n",
      "Color 554: [CONTROL/${ANT}/LOtwoBBpr_C - virtual void LO${N}Engine::setFrequency(double, Control::LOOffsettingMode, NetSidebandMod::NetSideband, ACS::Time)] Sett\n",
      "Color 555: [CONTROL/${ANT}/LOtwoBBpr_D - virtual void LO${N}Engine::setFrequency(double, Control::LOOffsettingMode, NetSidebandMod::NetSideband, ACS::Time)] Sett\n",
      "Color 556: [CONTROL/${ANT}/FrontEnd - void FrontEndImpl::lockFrontEndInternal(Control::FrontEnd::SubscanInformation, bool, bool)] Setting band ${N} park frequenc\n",
      "Color 557: [CONTROL/${ANT}/FrontEnd - void FrontEndImpl::lockFrontEndInternal(Control::FrontEnd::SubscanInformation, bool, bool)] Modulation voltage: ${N} IFTota\n",
      "Color 558: [CONTROL/${ANT}/FrontEnd - void FrontEndImpl::optimizeSinglePolInternal(ReceiverBandMod::ReceiverBand, int, float&, float&)] Pol${N}: Target ij=${N}\n",
      "Color 559: [CONTROL/${ANT}/FrontEnd - void FrontEndImpl::optimizeSinglePolInternal(ReceiverBandMod::ReceiverBand, int, float&, float&)] Pol${N}: ij=${N},my=${N},\n",
      "Color 560: [CONTROL/${ANT}/FrontEnd - void FrontEndImpl::optimizeSinglePolInternal(ReceiverBandMod::ReceiverBand, int, float&, float&)] Pol${N}: ijc=${N},ij${N}=\n",
      "Color 561: [CONTROL/${ANT}/FrontEnd - void FrontEndImpl::optimizeSinglePolInternal(ReceiverBandMod::ReceiverBand, int, float&, float&)] Pol ${N} Initial Guess u$\n",
      "Color 562: [CONTROL/${ANT}/FrontEnd - void FrontEndImpl::optimizeSinglePolInternal(ReceiverBandMod::ReceiverBand, int, float&, float&)] Pol ${N} current u = ${N}\n",
      "Color 563: [CONTROL/${ANT}/FrontEnd - void FrontEndImpl::optimizeSinglePolInternal(ReceiverBandMod::ReceiverBand, int, float&, float&)] Pol${N} Set value = ${N}[\n",
      "Color 564: [CONTROL/${ANT}/FrontEnd - void FrontEndImpl::optimizeSinglePolInternal(ReceiverBandMod::ReceiverBand, int, float&, float&)] vd${N}=${N}[V] yavg=${N}[\n",
      "Color 565: [CONTROL/${ANT}/FrontEnd - void FrontEndImpl::optimizeSinglePolInternal(ReceiverBandMod::ReceiverBand, int, float&, float&)] Loop ongoing j=${N}\n",
      "Color 566: [CONTROL/${ANT}/FrontEnd - void FrontEndImpl::optimizeSinglePolInternal(ReceiverBandMod::ReceiverBand, int, float&, float&)]\n",
      "Color 567: [CONTROL/${ANT}/IFProc_B - virtual void IFProcImpl::setPowerLevel(float)] Tweaking the attenuators so the nominal gains are at [ ${N} ${N} ${N} ${N} ]\n",
      "Color 568: [CONTROL/${ANT}/Mount - bool Control::MountImpl::isExecutionTimeCorrect(std::string, ACS::Time, ACS::Time, bool)] The AZ_TRAJ_CMD control point was ex\n",
      "Color 569: [CONTROL/${ANT}/Mount - bool Control::MountImpl::isExecutionTimeCorrect(std::string, ACS::Time, ACS::Time, bool)] The EL_TRAJ_CMD control point was ex\n",
      "Color 570: [CONTROL/${ANT}/cppContainer-GL - void Control::DelayCalculator::getInterpolator(ACS::Time)] Illegal Parameter Error (type=${N}, code=${N}) Detail=\"Ca\n",
      "Color 571: [CONTROL/${ANT}/cppContainer-GL - virtual CORBA::Long ACDImpl::waitTillInPosition(CORBA::Double)] Operation Timeout (type=${N}, code=${N})\n",
      "Color 572: [CONTROL/${ANT}/cppContainer-GL - virtual void FrontEndImpl::setCalibrationDeviceBand(CalibrationDeviceMod::CalibrationDevice, ReceiverBandMod::Receiv\n",
      "Color 573: [CONTROL/${ANT}/Mount - bool Control::FocusModel::getFocus(double&, double&, double&, double&, double&, double&, double&)] Limiting the subreflector p\n",
      "Color 574: [CONTROL/${ANT}/MountController - void Control::MountControllerImpl::updateWeather()] Took ${N} seconds to get the weather data\n",
      "Color 575: [CONTROL/${ANT}/LOtwoBBpr_A - virtual void LO${N}Engine::setFrequency(double, Control::LOOffsettingMode, NetSidebandMod::NetSideband, ACS::Time)] Sett\n",
      "Color 576: [CONTROL/${ANT}/LOtwoBBpr_B - virtual void LO${N}Engine::setFrequency(double, Control::LOOffsettingMode, NetSidebandMod::NetSideband, ACS::Time)] Sett\n",
      "Color 577: [CONTROL/${ANT}/LOtwoBBpr_C - virtual void LO${N}Engine::setFrequency(double, Control::LOOffsettingMode, NetSidebandMod::NetSideband, ACS::Time)] Sett\n",
      "Color 578: [CONTROL/${ANT}/LOtwoBBpr_D - virtual void LO${N}Engine::setFrequency(double, Control::LOOffsettingMode, NetSidebandMod::NetSideband, ACS::Time)] Sett\n",
      "Color 579: [ambServer - loggerThread] :monitor: timeout on receive. Channel = ${N}, Node = ${N}x${N}, RCA = ${N}xd${N}\n",
      "Color 580: [CONTROL/${ANT}/cppContainer-GL - virtual void AmbDeviceImpl::monitorEnc(ACS::Time*, const AMBSystem::AmbRelativeAddr&, AmbDataLength_t&, AmbDataMem_t\n",
      "Color 581: [ambServer - loggerThread] :monitor: timeout on receive. Channel = ${N}, Node = ${N}x${N}, RCA = ${N}x${N}\n",
      "Color 582: [CONTROL/${ANT}/cppContainer-GL - virtual void AmbDeviceImpl::monitorEnc(ACS::Time*, const AMBSystem::AmbRelativeAddr&, AmbDataLength_t&, AmbDataMem_t\n",
      "Color 583: [CONTROL/${ANT}/cppContainer-GL - virtual double Control::MountControllerImpl::startPointingDataCollection(ACS::Time, ACS::Time)] Requested Device Bus\n",
      "Color 584: [CONTROL/${ANT}/cppContainer-GL - void nc::SimpleConsumer<T>::push_structured_event(const CosNotification::StructuredEvent&) [with T = Control::MountS\n",
      "Color 585: [CONTROL/${ANT}/FrontEnd - void FrontEndImpl::optimizeSinglePolInternal(ReceiverBandMod::ReceiverBand, int, float&, float&)] Escape from Coarse Adjust\n",
      "Color 586: [CONTROL/${ANT}/MountController - void Control::MountControllerImpl::updateWeather()] Weather parameters have not changed in over ${N} mins. Check the\n",
      "Color 587: [CONTROL/${ANT}/FrontEnd/ACD - void ACDImpl::updateThreadAction()] Caught an exception while trying determine if ACD needs to raise or lower a flag. I\n",
      "Color 588: [CONTROL/${ANT}/FrontEnd - void FrontEndImpl::optimizeSinglePolInternal(ReceiverBandMod::ReceiverBand, int, float&, float&)] Pol${N}, SIS Current hit \n",
      "Color 589: [CONTROL/${ANT}/cppContainer-GL - virtual bool FrontEndImpl::isLocked()] Inactive (type=${N}, code=${N}) Additional=\"An UNKOWN Exception was caught.\"\n",
      "Color 590: [CONTROL/${ANT}/cppContainer-GL - pollingForAxisMode] Timed Out (type=${N}, code=${N})\n",
      "Color 591: [CONTROL/${ANT}/cppContainer-GL - ] Data lost from buffer\n",
      "Color 592: LoggingProxy: Connection to the Centralized Logger reestablished.\n",
      "Color 593: [CONTROL/${ANT}/cppContainer-GL - ] No more data segments are allowed. Buffer is full\n",
      "Color 594: [CONTROL/${ANT}/cppContainer-GL - virtual void ColdCartImpl::setBandSISBias(bool, Control::FEMixerMode)] CAMB Error (type=${N}, code=${N})\n",
      "Color 595: [CONTROL/${ANT}/cppContainer-GL - virtual float ColdCartBase::getPol${N}Sb${N}SisVoltage(ACS::Time&)] CAMB Error (type=${N}, code=${N})\n",
      "Color 596: [CONTROL/${ANT}/IFProc_A - virtual void IFProcImpl::setPowerLevel(float)] Tweaking the attenuators so the nominal gains are at [ ${N} ${N} ${N} ${N} ]\n",
      "Color 597: [main - virtual Logging::Logger::~Logger()] LOGGING STATISTICS FOR: Undefined.main ErrorMessageIncrement=\"nan\" MessageIncrement=\"inf\" LastPeriodNumber\n",
      "Color 598: Local file logger: Cache saved to '/alma/ACS-JUN${N}/acsdata/tmp/da${N}-abm/daemons_${N}${N}${N}T${N}:${N}:${N}/acs_local_log_cppContainer_${N}'.\n",
      "Color 599: [CONTROL/${ANT}/cppContainer-GL - ] Helper::Helper(channelName_mp =CONTROL_SYSTEM, acsNCDomainName_mp = DEFAULTDOMAIN)\n"
     ]
    }
   ],
   "source": [
    "for i in range(521,600):\n",
    "    print (\"Color %d: %s\" % (i, colors[i][:150]))"
   ]
  },
  {
   "cell_type": "markdown",
   "metadata": {},
   "source": [
    "Those colors were obtained in near 10 minutes over these 6 files. Note that there are 334 files that can be processed."
   ]
  },
  {
   "cell_type": "markdown",
   "metadata": {
    "collapsed": true
   },
   "source": [
    "da41-acsStartContainer_cppContainer_2017-07-01_22.45.35.715_STRIPPED\n",
    "dv13-acsStartContainer_cppContainer_2017-07-03_20.36.59.377_STRIPPED\n",
    "da50-acsStartContainer_cppContainer_2017-07-05_19.56.32.107_STRIPPED\n",
    "dv13-acsStartContainer_cppContainer_2017-07-10_19.30.50.429_STRIPPED\n",
    "dv02-acsStartContainer_cppContainer_2017-07-10_18.29.36.632_STRIPPED\n",
    "da41-acsStartContainer_cppContainer_2017-07-03_21.43.00.460_STRIPPED"
   ]
  },
  {
   "cell_type": "markdown",
   "metadata": {},
   "source": [
    "# Statistics on pairs"
   ]
  },
  {
   "cell_type": "code",
   "execution_count": 13,
   "metadata": {
    "collapsed": true
   },
   "outputs": [],
   "source": [
    "from src import *\n",
    "from src.models.AlmaClasses import *\n",
    "\n",
    "db = DelaysFileDB( caseName=\"CaseAntennaObserving\", path= '../' + config.FILEPATH_DB+\"/delays\")  "
   ]
  },
  {
   "cell_type": "code",
   "execution_count": 14,
   "metadata": {},
   "outputs": [
    {
     "data": {
      "text/plain": [
       "'CaseAntennaObserving'"
      ]
     },
     "execution_count": 14,
     "metadata": {},
     "output_type": "execute_result"
    }
   ],
   "source": [
    "db.caseName"
   ]
  },
  {
   "cell_type": "code",
   "execution_count": 15,
   "metadata": {
    "collapsed": true
   },
   "outputs": [],
   "source": [
    "#db.instances_per_pair()[:5]"
   ]
  },
  {
   "cell_type": "code",
   "execution_count": 16,
   "metadata": {},
   "outputs": [
    {
     "data": {
      "text/plain": [
       "222"
      ]
     },
     "execution_count": 16,
     "metadata": {},
     "output_type": "execute_result"
    }
   ],
   "source": [
    "len(db.unique_colors())"
   ]
  },
  {
   "cell_type": "code",
   "execution_count": 17,
   "metadata": {},
   "outputs": [
    {
     "data": {
      "text/plain": [
       "7849"
      ]
     },
     "execution_count": 17,
     "metadata": {},
     "output_type": "execute_result"
    }
   ],
   "source": [
    "db.total_pairs()"
   ]
  },
  {
   "cell_type": "code",
   "execution_count": 18,
   "metadata": {},
   "outputs": [
    {
     "data": {
      "text/plain": [
       "820"
      ]
     },
     "execution_count": 18,
     "metadata": {},
     "output_type": "execute_result"
    }
   ],
   "source": [
    "some_pair, value = db.instances_per_pair()[10]\n",
    "db.delays_per_pair()[some_pair]"
   ]
  },
  {
   "cell_type": "code",
   "execution_count": 19,
   "metadata": {},
   "outputs": [
    {
     "data": {
      "text/plain": [
       "1820"
      ]
     },
     "execution_count": 19,
     "metadata": {},
     "output_type": "execute_result"
    }
   ],
   "source": [
    "db.total_cases()"
   ]
  },
  {
   "cell_type": "markdown",
   "metadata": {},
   "source": [
    "## CaseRadioSetup"
   ]
  },
  {
   "cell_type": "code",
   "execution_count": 20,
   "metadata": {
    "collapsed": true
   },
   "outputs": [],
   "source": [
    "db = DelaysFileDB( caseName=\"CaseRadioSetup\", path= '../' + config.FILEPATH_DB+\"/delays\")  "
   ]
  },
  {
   "cell_type": "code",
   "execution_count": 21,
   "metadata": {},
   "outputs": [
    {
     "data": {
      "text/plain": [
       "10"
      ]
     },
     "execution_count": 21,
     "metadata": {},
     "output_type": "execute_result"
    }
   ],
   "source": [
    "len(db.unique_colors())"
   ]
  },
  {
   "cell_type": "code",
   "execution_count": 22,
   "metadata": {},
   "outputs": [
    {
     "data": {
      "text/plain": [
       "23"
      ]
     },
     "execution_count": 22,
     "metadata": {},
     "output_type": "execute_result"
    }
   ],
   "source": [
    "db.total_pairs()"
   ]
  },
  {
   "cell_type": "code",
   "execution_count": 23,
   "metadata": {},
   "outputs": [
    {
     "data": {
      "text/plain": [
       "1068"
      ]
     },
     "execution_count": 23,
     "metadata": {},
     "output_type": "execute_result"
    }
   ],
   "source": [
    "db.total_cases()"
   ]
  },
  {
   "cell_type": "markdown",
   "metadata": {},
   "source": [
    "## CaseAntennaInArray"
   ]
  },
  {
   "cell_type": "code",
   "execution_count": 24,
   "metadata": {
    "collapsed": true
   },
   "outputs": [],
   "source": [
    "db = DelaysFileDB( caseName=\"CaseAntennaInArray\", path= '../' + config.FILEPATH_DB+\"/delays\")  "
   ]
  },
  {
   "cell_type": "code",
   "execution_count": 25,
   "metadata": {},
   "outputs": [
    {
     "data": {
      "text/plain": [
       "333"
      ]
     },
     "execution_count": 25,
     "metadata": {},
     "output_type": "execute_result"
    }
   ],
   "source": [
    "len(db.unique_colors())"
   ]
  },
  {
   "cell_type": "code",
   "execution_count": 26,
   "metadata": {},
   "outputs": [
    {
     "data": {
      "text/plain": [
       "14776"
      ]
     },
     "execution_count": 26,
     "metadata": {},
     "output_type": "execute_result"
    }
   ],
   "source": [
    "db.total_pairs()"
   ]
  },
  {
   "cell_type": "code",
   "execution_count": 27,
   "metadata": {},
   "outputs": [
    {
     "data": {
      "text/plain": [
       "442"
      ]
     },
     "execution_count": 27,
     "metadata": {},
     "output_type": "execute_result"
    }
   ],
   "source": [
    "db.total_cases()"
   ]
  },
  {
   "cell_type": "code",
   "execution_count": null,
   "metadata": {
    "collapsed": true
   },
   "outputs": [],
   "source": []
  }
 ],
 "metadata": {
  "kernelspec": {
   "display_name": "Python 2",
   "language": "python",
   "name": "python2"
  },
  "language_info": {
   "codemirror_mode": {
    "name": "ipython",
    "version": 2
   },
   "file_extension": ".py",
   "mimetype": "text/x-python",
   "name": "python",
   "nbconvert_exporter": "python",
   "pygments_lexer": "ipython2",
   "version": "2.7.10"
  }
 },
 "nbformat": 4,
 "nbformat_minor": 2
}
